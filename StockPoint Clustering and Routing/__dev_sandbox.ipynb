{
 "cells": [
  {
   "cell_type": "markdown",
   "id": "988fd693",
   "metadata": {},
   "source": [
    "### Sandbox  \n",
    "\n",
    "#### Content  \n",
    "1. Get Dims  \n",
    "    - StockPoints and Coordinations\n",
    "    - StockPoints Mapping (State, LGA, LCDA)"
   ]
  },
  {
   "cell_type": "markdown",
   "id": "884152d0",
   "metadata": {},
   "source": [
    "#### 1. Get SP Dims"
   ]
  },
  {
   "cell_type": "code",
   "execution_count": null,
   "id": "d0ea0c37",
   "metadata": {},
   "outputs": [],
   "source": [
    "import pandas as pd\n",
    "import pyodbc  # or sqlalchemy, depending on your setup\n",
    "# from jinja2 import Template"
   ]
  },
  {
   "cell_type": "code",
   "execution_count": null,
   "id": "2ca5539b",
   "metadata": {},
   "outputs": [],
   "source": [
    "# Get Connection\n",
    "# conn = \n",
    "  \n",
    "\n",
    "# Read the SQL script from file\n",
    "with open(\"_sql/sp_dim.sql\", 'r') as file:\n",
    "    sql_query = file.read()\n",
    " \n",
    "# Run query and load into DataFrame\n",
    "df = pd.read_sql(sql_query, conn)"
   ]
  }
 ],
 "metadata": {
  "kernelspec": {
   "display_name": "dev",
   "language": "python",
   "name": "python3"
  },
  "language_info": {
   "codemirror_mode": {
    "name": "ipython",
    "version": 3
   },
   "file_extension": ".py",
   "mimetype": "text/x-python",
   "name": "python",
   "nbconvert_exporter": "python",
   "pygments_lexer": "ipython3",
   "version": "3.13.2"
  }
 },
 "nbformat": 4,
 "nbformat_minor": 5
}
