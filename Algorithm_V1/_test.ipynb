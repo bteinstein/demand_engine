{
 "cells": [
  {
   "cell_type": "markdown",
   "id": "84561739",
   "metadata": {},
   "source": [
    "# MAIN"
   ]
  },
  {
   "cell_type": "code",
   "execution_count": 1,
   "id": "56187ccb",
   "metadata": {},
   "outputs": [],
   "source": [
    "\n",
    "%load_ext autoreload\n",
    "%autoreload 2\n",
    "\n",
    "import os\n",
    "import shutil\n",
    "from pathlib import Path\n",
    "import pandas as pd \n",
    "import logging\n",
    "from src.data.get_data import get_all_input_data #get_data_reco_custdim_spdim , get_kyc_customers, get_customer_score\n",
    "from datetime import datetime, timedelta \n",
    "from src.data.preprocessing import preprocessing\n",
    "from src.routing.ValhallaManager import ValhallaManager\n",
    "from src.data.data_filter import data_filter \n",
    "from src.main import run_push_recommendation \n",
    "from src.utils_and_postprocessing.utils import setup_logger, setup_directories, list_files_in_directory, load_feather_inputs\n",
    "\n",
    "from src.data.export import export_data \n",
    "from src.data.get_connection import get_connection\n",
    "from src.clustering.evaluate_cluster import evaluate_unsupervised_clustering\n",
    "from src.utils_and_postprocessing.utils import cluster_summary_and_selection, postprocess_selected_trip\n",
    "from src.utils_and_postprocessing.run_clustering_and_routing import create_and_plot_route, create_cluster_trip_optroute "
   ]
  },
  {
   "cell_type": "code",
   "execution_count": 2,
   "id": "82f679a6",
   "metadata": {},
   "outputs": [],
   "source": [
    "%reload_ext autoreload"
   ]
  },
  {
   "cell_type": "markdown",
   "id": "2b9dc433",
   "metadata": {},
   "source": [
    "### Logger Set-up"
   ]
  },
  {
   "cell_type": "code",
   "execution_count": 3,
   "id": "de38fcad",
   "metadata": {},
   "outputs": [
    {
     "name": "stderr",
     "output_type": "stream",
     "text": [
      "INFO: This is an info message\n",
      "WARNING: This is a warning\n"
     ]
    }
   ],
   "source": [
    "logger = setup_logger(__name__, log_file='test.log')\n",
    "\n",
    "logger.info(\"This is an info message\")\n",
    "logger.warning(\"This is a warning\")"
   ]
  },
  {
   "cell_type": "markdown",
   "id": "d8d4620c",
   "metadata": {},
   "source": [
    "### Parameter Setup"
   ]
  },
  {
   "cell_type": "code",
   "execution_count": 4,
   "id": "a9b67c7e",
   "metadata": {},
   "outputs": [
    {
     "name": "stderr",
     "output_type": "stream",
     "text": [
      "INFO: Ensured directory exists: /home/azureuser/BT/11_Demand_Engine/Algorithm_V1/recommendation_output/selected_trip_map/2025-07-04\n",
      "INFO: Ensured directory exists: /home/azureuser/BT/11_Demand_Engine/Algorithm_V1/recommendation_output/cluster_map/2025-07-04\n",
      "INFO: Ensured directory exists: /home/azureuser/BT/11_Demand_Engine/Algorithm_V1/recommendation_output/excel_docs/2025-07-04\n",
      "INFO: Copied index.html to /home/azureuser/BT/11_Demand_Engine/Algorithm_V1/recommendation_output/selected_trip_map/2025-07-04/index.html\n",
      "INFO: Copied index.html to /home/azureuser/BT/11_Demand_Engine/Algorithm_V1/recommendation_output/cluster_map/2025-07-04/index.html\n"
     ]
    }
   ],
   "source": [
    "# Constants for directory structure\n",
    "# BASE_DIR = Path(__file__).resolve().parent\n",
    "BASE_DIR = Path('').resolve()#.parent \n",
    "INDEX_HTML = 'index.html'\n",
    "CURRENT_DATE = datetime.today().date() + timedelta(days=1)\n",
    "\n",
    "INPUT_DIR, SELECTED_TRIP_PATH, ALL_CLUSTER_PATH, LOCAL_EXCEL_PATH = setup_directories(base_dir = BASE_DIR, current_date = CURRENT_DATE, logger = logger) "
   ]
  },
  {
   "cell_type": "code",
   "execution_count": 5,
   "id": "c2cbee35",
   "metadata": {},
   "outputs": [
    {
     "name": "stdout",
     "output_type": "stream",
     "text": [
      "Starting Valhalla container...\n",
      " Container valhalla_nigeria_project-valhalla-1  Running\n",
      "\n",
      "Waiting 10 seconds for Valhalla to initialize...\n",
      "Valhalla container started.\n"
     ]
    },
    {
     "data": {
      "text/plain": [
       "True"
      ]
     },
     "execution_count": 5,
     "metadata": {},
     "output_type": "execute_result"
    }
   ],
   "source": [
    "# Instantiate the manager\n",
    "valhalla_manager = ValhallaManager(logger=logger)\n",
    "\n",
    "# Start the server\n",
    "valhalla_manager.start_valhalla()\n",
    "\n",
    "# Check valhalla status\n",
    "valhalla_manager.check_valhalla_status()"
   ]
  },
  {
   "cell_type": "markdown",
   "id": "84f9c277",
   "metadata": {},
   "source": [
    "## Main Function"
   ]
  },
  {
   "cell_type": "markdown",
   "id": "ad364b7e",
   "metadata": {},
   "source": [
    "## MAIN 1"
   ]
  },
  {
   "cell_type": "code",
   "execution_count": 6,
   "id": "d2fb9693",
   "metadata": {},
   "outputs": [
    {
     "name": "stderr",
     "output_type": "stream",
     "text": [
      "INFO: Executing stored procedure(s) to fetch data...\n",
      "INFO: Data fetch complete.\n",
      "INFO: --- Fetched DataFrames Shapes ---\n",
      "INFO: Customer SKU Recommendation: (134489, 13)\n",
      "INFO: Customer Dimension with Affinity Score: (10905, 22)\n",
      "INFO: Stockpoint Dimension: (72, 4)\n",
      "INFO: ---------------------------------\n",
      "\n",
      "INFO: Connecting to database and fetching KYC customer data...\n",
      "INFO: Successfully fetched KYC customer data. Shape: (343281, 57)\n",
      "INFO: KYC customers DataFrame shape: (343281, 57)\n",
      "INFO: Connecting to database and fetching customer score data...\n",
      "INFO: EXEC usp_GetPushCustomersScore\n",
      "INFO: Successfully fetched customer score data. Shape: (27686, 15)\n",
      "INFO: Customer scores DataFrame shape: (27686, 15)\n"
     ]
    }
   ],
   "source": [
    "# Get input data\n",
    "df_customer_sku_recommendation_raw, df_customer_dim_with_affinity_score_raw, \\\n",
    "    df_stockpoint_dim_raw, df_kyc_customer, df_customer_score = get_all_input_data(logger=logger,\n",
    "                                                                                    save_local = False,\n",
    "                                                                                    input_dir_path = None, # Added optional input_dir_path\n",
    "                                                                                    reload_recommendation_data = False # Added parameter to control data reloading\n",
    "                                                                                    )"
   ]
  },
  {
   "cell_type": "code",
   "execution_count": 7,
   "id": "017be562",
   "metadata": {},
   "outputs": [],
   "source": [
    "# # # Development: save the inputs to feather for quick access\n",
    "# # Load all feather files\n",
    "# try:\n",
    "#     dfs = load_feather_inputs(input_dir=INPUT_DIR, logger=logger)\n",
    "\n",
    "#     # Unpack individual DataFrames\n",
    "#     df_customer_sku_recommendation_raw = dfs['df_customer_sku_recommendation_raw']\n",
    "#     df_customer_dim_with_affinity_score_raw = dfs['df_customer_dim_with_affinity_score_raw']\n",
    "#     df_stockpoint_dim_raw = dfs['df_stockpoint_dim_raw']\n",
    "#     df_kyc_customer = dfs['df_kyc_customer']\n",
    "#     df_customer_score = dfs['df_customer_score']\n",
    "\n",
    "# except FileNotFoundError as e:\n",
    "#     logger.error(\"Missing required input file. Exiting pipeline.\")\n",
    "#     raise\n",
    "# except Exception as e:\n",
    "#     logger.error(\"Failed to load input data due to unexpected error.\")\n",
    "#     raise\n"
   ]
  },
  {
   "cell_type": "code",
   "execution_count": 8,
   "id": "16495a0e",
   "metadata": {},
   "outputs": [],
   "source": [
    "# Preprocessing\n",
    "df_customer_sku_recommendation, df_master_customer_dim, df_stockpoint_dim = preprocessing(df_customer_sku_recommendation_raw, \n",
    "                                                                                            df_customer_dim_with_affinity_score_raw, \n",
    "                                                                                            df_stockpoint_dim_raw,\n",
    "                                                                                            df_customer_score,\n",
    "                                                                                            df_kyc_customer)"
   ]
  },
  {
   "cell_type": "code",
   "execution_count": null,
   "id": "16962e5d",
   "metadata": {},
   "outputs": [],
   "source": []
  },
  {
   "cell_type": "code",
   "execution_count": 9,
   "id": "fbd3e5a0",
   "metadata": {},
   "outputs": [],
   "source": [
    "# # stock_point_id = 1647394 #\n",
    "# stock_point_id =  1647113\n",
    "# stock_point_name = df_stockpoint_dim.query(f'Stock_Point_ID == {1647394}')['Stock_point_Name'].iloc[0] \n",
    "\n",
    "## Data Filter - Testing \n",
    "# df_sku_rec, df_customer_dim, df_stockpoint = data_filter(df_customer_sku_recommendation, \n",
    "#                                                                     df_master_customer_dim, \n",
    "#                                                                     df_stockpoint_dim, \n",
    "#                                                                     stockpoint_id = stock_point_id,  \n",
    "#                                                                     sku_recency = 7, customer_recency = 60, number_recommendation = 10,\n",
    "#                                                                     estimate_qty_scale_factor = 1, max_estimated_qty = 5, \n",
    "#                                                                     exclude_recency_customer = 4)\n",
    "\n",
    "# res_dict = run_push_recommendation(df_customer_sku_recommendation, \n",
    "#                             df_master_customer_dim, \n",
    "#                             df_stockpoint_dim, \n",
    "#                             stock_point_id,\n",
    "#                             stock_point_name,\n",
    "#                             sku_recency = 7, \n",
    "#                             customer_recency = 60, number_recommendation = 5, \n",
    "#                             estimate_qty_scale_factor = 1, max_estimated_qty = 5, \n",
    "#                             exclude_recency_customer = 4,\n",
    "#                             max_customers_per_route=20,\n",
    "#                             max_volume_per_route=300,\n",
    "#                             max_distance_km = 40,\n",
    "#                             sel_trip_cluster = 5,\n",
    "#                             min_ncust_per_cluster = 5,\n",
    "#                             clustering_method = 'divisive',\n",
    "#                             skip_route_optimization = False,\n",
    "#                             save_to_disk = False,\n",
    "#                             logger=logger)"
   ]
  },
  {
   "cell_type": "code",
   "execution_count": 10,
   "id": "b39ba531",
   "metadata": {},
   "outputs": [
    {
     "name": "stderr",
     "output_type": "stream",
     "text": [
      "INFO: ================================================================================\n",
      "INFO: ROUTE OPTIMIZATION FOR PUSH SALES RECOMMENDATIONS\n",
      "INFO: StockPoint: OmniHub Obio Akpor Rivers - Rivoc, StockPointID: 1647128,\n",
      "INFO: ================================================================================\n",
      "INFO: \n",
      "1. Loading Data...\n",
      "INFO: ----------------------------------------\n",
      "INFO: ================================================================================\n",
      "INFO: ROUTE OPTIMIZATION FOR PUSH SALES RECOMMENDATIONS\n",
      "INFO: StockPoint: OmniHub Ado Odo/Ota Ogun - Prince Tunadek, StockPointID: 1647401,\n",
      "INFO: ================================================================================\n",
      "INFO: \n",
      "1. Loading Data...\n",
      "INFO: ----------------------------------------\n",
      "INFO: ✓ Loaded 19 SKU recommendations\n",
      "INFO: ✓ Loaded 5 customer records\n",
      "INFO: ✓ Loaded 1 stock points\n",
      "INFO: ✓ Route optimizer initialized\n",
      "INFO: \n",
      "3. Generating Optimized Routes...\n",
      "INFO: ----------------------------------------\n",
      "INFO: ✓ Created 2 clusters for Stock Point 1647401 using divisive clustering method\n",
      "INFO: ----------------------------------------\n"
     ]
    },
    {
     "name": "stdout",
     "output_type": "stream",
     "text": [
      "0/72 \n",
      "Stock Point ID: 1647128 || Stock Point Name: OmniHub Obio Akpor Rivers - Rivoc\n",
      "Total Quantity before filter: 25\n",
      "Total Quantity: 25\n",
      "Total Number of Customers before filter: 1\n",
      "Total Number of Customers: 1\n",
      "1/72 \n",
      "Stock Point ID: 1647401 || Stock Point Name: OmniHub Ado Odo/Ota Ogun - Prince Tunadek\n",
      "Total Quantity before filter: 307\n",
      "Total Quantity: 81\n",
      "Total Number of Customers before filter: 21\n",
      "Total Number of Customers: 5\n",
      "Silhouette Score: 0.36\n",
      "Davies-Bouldin Index: 0.34\n",
      "Calinski-Harabasz Score: 4.89\n"
     ]
    },
    {
     "name": "stderr",
     "output_type": "stream",
     "text": [
      "INFO: 4. Route Analysis & Results...\n",
      "INFO: ----------------------------------------\n",
      "INFO: Calculating route...\n",
      "INFO: Trip data is empty - no routes to create\n",
      "INFO: Plotting cluster without route calculation...\n",
      "INFO: Map saved to /home/azureuser/BT/11_Demand_Engine/Algorithm_V1/recommendation_output/cluster_map/2025-07-04/1647401.html\n",
      "ERROR: Can not save to disk Cannot save file into a non-existent directory: '/home/azureuser/BT/11_Demand_Engine/Algorithm_V1/recommendation_output/excel_docs/2025-07-04/OmniHub Ado Odo'\n",
      "INFO: ================================================================================\n",
      "INFO: ROUTE OPTIMIZATION FOR PUSH SALES RECOMMENDATIONS\n",
      "INFO: StockPoint: OmniHub AMAC 1 Abuja - Elriah, StockPointID: 1647402,\n",
      "INFO: ================================================================================\n",
      "INFO: \n",
      "1. Loading Data...\n",
      "INFO: ----------------------------------------\n",
      "INFO: ✓ Loaded 42 SKU recommendations\n",
      "INFO: ✓ Loaded 11 customer records\n",
      "INFO: ✓ Loaded 1 stock points\n",
      "INFO: ✓ Route optimizer initialized\n",
      "INFO: \n",
      "3. Generating Optimized Routes...\n",
      "INFO: ----------------------------------------\n"
     ]
    },
    {
     "name": "stdout",
     "output_type": "stream",
     "text": [
      "Warning: Missing optional columns in popup_cols: ['TotalQuantity']. These will be ignored.\n",
      "2/72 \n",
      "Stock Point ID: 1647402 || Stock Point Name: OmniHub AMAC 1 Abuja - Elriah\n",
      "Total Quantity before filter: 358\n",
      "Total Quantity: 160\n",
      "Total Number of Customers before filter: 24\n",
      "Total Number of Customers: 11\n"
     ]
    },
    {
     "name": "stderr",
     "output_type": "stream",
     "text": [
      "INFO: ✓ Created 1 clusters for Stock Point 1647402 using divisive clustering method\n",
      "INFO: ----------------------------------------\n",
      "INFO: 4. Route Analysis & Results...\n",
      "INFO: ----------------------------------------\n",
      "INFO: Calculating route...\n",
      "INFO: Starting route calculations for all trips...\n",
      "INFO: All route calculations completed.\n",
      "\n",
      "INFO: Map saved to /home/azureuser/BT/11_Demand_Engine/Algorithm_V1/recommendation_output/selected_trip_map/2025-07-04/1647402.html\n",
      "INFO: Route map created successfully: /home/azureuser/BT/11_Demand_Engine/Algorithm_V1/recommendation_output/selected_trip_map/2025-07-04/1647402.html\n",
      "INFO: Plotting cluster without route calculation...\n",
      "INFO: Map saved to /home/azureuser/BT/11_Demand_Engine/Algorithm_V1/recommendation_output/cluster_map/2025-07-04/1647402.html\n",
      "INFO: ================================================================================\n",
      "INFO: ROUTE OPTIMIZATION FOR PUSH SALES RECOMMENDATIONS\n",
      "INFO: StockPoint: OmniHub Tarauni Kano - Amjabil, StockPointID: 1647136,\n",
      "INFO: ================================================================================\n",
      "INFO: \n",
      "1. Loading Data...\n",
      "INFO: ----------------------------------------\n",
      "INFO: ================================================================================\n",
      "INFO: ROUTE OPTIMIZATION FOR PUSH SALES RECOMMENDATIONS\n",
      "INFO: StockPoint: OmniHub Alimosho Lagos - Isukoshi MFC, StockPointID: 1647076,\n",
      "INFO: ================================================================================\n",
      "INFO: \n",
      "1. Loading Data...\n",
      "INFO: ----------------------------------------\n"
     ]
    },
    {
     "name": "stdout",
     "output_type": "stream",
     "text": [
      "Warning: Missing optional columns in popup_cols: ['TotalQuantity']. These will be ignored.\n",
      "3/72 \n",
      "Stock Point ID: 1647136 || Stock Point Name: OmniHub Tarauni Kano - Amjabil\n",
      "Total Quantity before filter: 10\n",
      "Total Quantity: 10\n",
      "Total Number of Customers before filter: 1\n",
      "Total Number of Customers: 1\n",
      "4/72 \n",
      "Stock Point ID: 1647076 || Stock Point Name: OmniHub Alimosho Lagos - Isukoshi MFC\n"
     ]
    },
    {
     "name": "stderr",
     "output_type": "stream",
     "text": [
      "INFO: ================================================================================\n",
      "INFO: ROUTE OPTIMIZATION FOR PUSH SALES RECOMMENDATIONS\n",
      "INFO: StockPoint: OmniHub Port Harcourt Rivers - WCG 2, StockPointID: 1647394,\n",
      "INFO: ================================================================================\n",
      "INFO: \n",
      "1. Loading Data...\n",
      "INFO: ----------------------------------------\n",
      "INFO: ✓ Loaded 1896 SKU recommendations\n",
      "INFO: ✓ Loaded 380 customer records\n",
      "INFO: ✓ Loaded 1 stock points\n",
      "INFO: ✓ Route optimizer initialized\n",
      "INFO: \n",
      "3. Generating Optimized Routes...\n",
      "INFO: ----------------------------------------\n"
     ]
    },
    {
     "name": "stdout",
     "output_type": "stream",
     "text": [
      "Total Quantity before filter: 0\n",
      "Total Quantity: 0\n",
      "Total Number of Customers before filter: 0\n",
      "Total Number of Customers: 0\n",
      "5/72 \n",
      "Stock Point ID: 1647394 || Stock Point Name: OmniHub Port Harcourt Rivers - WCG 2\n",
      "Total Quantity before filter: 11,013\n",
      "Total Quantity: 8,477\n",
      "Total Number of Customers before filter: 494\n",
      "Total Number of Customers: 380\n"
     ]
    },
    {
     "name": "stderr",
     "output_type": "stream",
     "text": [
      "INFO: ✓ Created 33 clusters for Stock Point 1647394 using divisive clustering method\n",
      "INFO: ----------------------------------------\n"
     ]
    },
    {
     "name": "stdout",
     "output_type": "stream",
     "text": [
      "Silhouette Score: 0.5\n",
      "Davies-Bouldin Index: 0.56\n",
      "Calinski-Harabasz Score: 883975.92\n"
     ]
    },
    {
     "name": "stderr",
     "output_type": "stream",
     "text": [
      "INFO: 4. Route Analysis & Results...\n",
      "INFO: ----------------------------------------\n",
      "INFO: Calculating route...\n",
      "INFO: Starting route calculations for all trips...\n",
      "INFO: All route calculations completed.\n",
      "\n",
      "INFO: Map saved to /home/azureuser/BT/11_Demand_Engine/Algorithm_V1/recommendation_output/selected_trip_map/2025-07-04/1647394.html\n",
      "INFO: Route map created successfully: /home/azureuser/BT/11_Demand_Engine/Algorithm_V1/recommendation_output/selected_trip_map/2025-07-04/1647394.html\n",
      "INFO: Plotting cluster without route calculation...\n"
     ]
    },
    {
     "name": "stdout",
     "output_type": "stream",
     "text": [
      "Warning: Missing optional columns in popup_cols: ['TotalQuantity']. These will be ignored.\n"
     ]
    },
    {
     "name": "stderr",
     "output_type": "stream",
     "text": [
      "INFO: Map saved to /home/azureuser/BT/11_Demand_Engine/Algorithm_V1/recommendation_output/cluster_map/2025-07-04/1647394.html\n",
      "INFO: ================================================================================\n",
      "INFO: ROUTE OPTIMIZATION FOR PUSH SALES RECOMMENDATIONS\n",
      "INFO: StockPoint: OmniHub Oshodi Isolo Lagos - Eloramore, StockPointID: 1647396,\n",
      "INFO: ================================================================================\n",
      "INFO: \n",
      "1. Loading Data...\n",
      "INFO: ----------------------------------------\n",
      "INFO: ✓ Loaded 579 SKU recommendations\n",
      "INFO: ✓ Loaded 134 customer records\n",
      "INFO: ✓ Loaded 1 stock points\n",
      "INFO: ✓ Route optimizer initialized\n",
      "INFO: \n",
      "3. Generating Optimized Routes...\n",
      "INFO: ----------------------------------------\n"
     ]
    },
    {
     "name": "stdout",
     "output_type": "stream",
     "text": [
      "6/72 \n",
      "Stock Point ID: 1647396 || Stock Point Name: OmniHub Oshodi Isolo Lagos - Eloramore\n",
      "Total Quantity before filter: 2,586\n",
      "Total Quantity: 2,076\n",
      "Total Number of Customers before filter: 170\n",
      "Total Number of Customers: 134\n"
     ]
    },
    {
     "name": "stderr",
     "output_type": "stream",
     "text": [
      "INFO: ✓ Created 9 clusters for Stock Point 1647396 using divisive clustering method\n",
      "INFO: ----------------------------------------\n"
     ]
    },
    {
     "name": "stdout",
     "output_type": "stream",
     "text": [
      "Silhouette Score: 0.34\n",
      "Davies-Bouldin Index: 0.74\n",
      "Calinski-Harabasz Score: 70661.0\n"
     ]
    },
    {
     "name": "stderr",
     "output_type": "stream",
     "text": [
      "INFO: 4. Route Analysis & Results...\n",
      "INFO: ----------------------------------------\n",
      "INFO: Calculating route...\n",
      "INFO: Starting route calculations for all trips...\n",
      "INFO:   Error calculating route for Trip ID 7: 400 ({\"error_code\":171,\"error\":\"No suitable edges near location\",\"status_code\":400,\"status\":\"Bad Request\"})\n",
      "INFO: All route calculations completed.\n",
      "\n"
     ]
    },
    {
     "name": "stdout",
     "output_type": "stream",
     "text": [
      "Skipping plotting for Trip ID 7 due to error: 400 ({\"error_code\":171,\"error\":\"No suitable edges near location\",\"status_code\":400,\"status\":\"Bad Request\"})\n"
     ]
    },
    {
     "name": "stderr",
     "output_type": "stream",
     "text": [
      "INFO: Map saved to /home/azureuser/BT/11_Demand_Engine/Algorithm_V1/recommendation_output/selected_trip_map/2025-07-04/1647396.html\n",
      "INFO: Route map created successfully: /home/azureuser/BT/11_Demand_Engine/Algorithm_V1/recommendation_output/selected_trip_map/2025-07-04/1647396.html\n",
      "INFO: Plotting cluster without route calculation...\n"
     ]
    },
    {
     "name": "stdout",
     "output_type": "stream",
     "text": [
      "Warning: Missing optional columns in popup_cols: ['TotalQuantity']. These will be ignored.\n"
     ]
    },
    {
     "name": "stderr",
     "output_type": "stream",
     "text": [
      "INFO: Map saved to /home/azureuser/BT/11_Demand_Engine/Algorithm_V1/recommendation_output/cluster_map/2025-07-04/1647396.html\n",
      "INFO: ================================================================================\n",
      "INFO: ROUTE OPTIMIZATION FOR PUSH SALES RECOMMENDATIONS\n",
      "INFO: StockPoint: OmniHub Dugbe Oyo - Derints Enterprises, StockPointID: 1647075,\n",
      "INFO: ================================================================================\n",
      "INFO: \n",
      "1. Loading Data...\n",
      "INFO: ----------------------------------------\n",
      "INFO: ================================================================================\n",
      "INFO: ROUTE OPTIMIZATION FOR PUSH SALES RECOMMENDATIONS\n",
      "INFO: StockPoint: OmniHub Surulere Lagos - Platform Height MFC, StockPointID: 1647077,\n",
      "INFO: ================================================================================\n",
      "INFO: \n",
      "1. Loading Data...\n",
      "INFO: ----------------------------------------\n",
      "INFO: ================================================================================\n",
      "INFO: ROUTE OPTIMIZATION FOR PUSH SALES RECOMMENDATIONS\n",
      "INFO: StockPoint: OmniHub Eleme Rivers - Berclynv, StockPointID: 1647400,\n",
      "INFO: ================================================================================\n",
      "INFO: \n",
      "1. Loading Data...\n",
      "INFO: ----------------------------------------\n"
     ]
    },
    {
     "name": "stdout",
     "output_type": "stream",
     "text": [
      "7/72 \n",
      "Stock Point ID: 1647075 || Stock Point Name: OmniHub Dugbe Oyo - Derints Enterprises\n",
      "Total Quantity before filter: 0\n",
      "Total Quantity: 0\n",
      "Total Number of Customers before filter: 0\n",
      "Total Number of Customers: 0\n",
      "8/72 \n",
      "Stock Point ID: 1647077 || Stock Point Name: OmniHub Surulere Lagos - Platform Height MFC\n",
      "Total Quantity before filter: 0\n",
      "Total Quantity: 0\n",
      "Total Number of Customers before filter: 0\n",
      "Total Number of Customers: 0\n",
      "9/72 \n",
      "Stock Point ID: 1647400 || Stock Point Name: OmniHub Eleme Rivers - Berclynv\n"
     ]
    },
    {
     "name": "stderr",
     "output_type": "stream",
     "text": [
      "INFO: ✓ Loaded 883 SKU recommendations\n",
      "INFO: ✓ Loaded 181 customer records\n",
      "INFO: ✓ Loaded 1 stock points\n",
      "INFO: ✓ Route optimizer initialized\n",
      "INFO: \n",
      "3. Generating Optimized Routes...\n",
      "INFO: ----------------------------------------\n"
     ]
    },
    {
     "name": "stdout",
     "output_type": "stream",
     "text": [
      "Total Quantity before filter: 5,932\n",
      "Total Quantity: 3,667\n",
      "Total Number of Customers before filter: 297\n",
      "Total Number of Customers: 181\n"
     ]
    },
    {
     "name": "stderr",
     "output_type": "stream",
     "text": [
      "INFO: ✓ Created 14 clusters for Stock Point 1647400 using divisive clustering method\n",
      "INFO: ----------------------------------------\n"
     ]
    },
    {
     "name": "stdout",
     "output_type": "stream",
     "text": [
      "Silhouette Score: 0.56\n",
      "Davies-Bouldin Index: 0.58\n",
      "Calinski-Harabasz Score: 1896053.02\n"
     ]
    },
    {
     "name": "stderr",
     "output_type": "stream",
     "text": [
      "INFO: 4. Route Analysis & Results...\n",
      "INFO: ----------------------------------------\n",
      "INFO: Calculating route...\n",
      "INFO: Starting route calculations for all trips...\n",
      "INFO: All route calculations completed.\n",
      "\n",
      "INFO: Map saved to /home/azureuser/BT/11_Demand_Engine/Algorithm_V1/recommendation_output/selected_trip_map/2025-07-04/1647400.html\n",
      "INFO: Route map created successfully: /home/azureuser/BT/11_Demand_Engine/Algorithm_V1/recommendation_output/selected_trip_map/2025-07-04/1647400.html\n",
      "INFO: Plotting cluster without route calculation...\n"
     ]
    },
    {
     "name": "stdout",
     "output_type": "stream",
     "text": [
      "Warning: Missing optional columns in popup_cols: ['TotalQuantity']. These will be ignored.\n"
     ]
    },
    {
     "name": "stderr",
     "output_type": "stream",
     "text": [
      "INFO: Map saved to /home/azureuser/BT/11_Demand_Engine/Algorithm_V1/recommendation_output/cluster_map/2025-07-04/1647400.html\n",
      "INFO: ================================================================================\n",
      "INFO: ROUTE OPTIMIZATION FOR PUSH SALES RECOMMENDATIONS\n",
      "INFO: StockPoint: OmniHub Alimosho Lagos - Barka-Agro and General Services MFC, StockPointID: 1647081,\n",
      "INFO: ================================================================================\n",
      "INFO: \n",
      "1. Loading Data...\n",
      "INFO: ----------------------------------------\n",
      "INFO: ✓ Loaded 518 SKU recommendations\n",
      "INFO: ✓ Loaded 130 customer records\n",
      "INFO: ✓ Loaded 1 stock points\n",
      "INFO: ✓ Route optimizer initialized\n",
      "INFO: \n",
      "3. Generating Optimized Routes...\n",
      "INFO: ----------------------------------------\n"
     ]
    },
    {
     "name": "stdout",
     "output_type": "stream",
     "text": [
      "10/72 \n",
      "Stock Point ID: 1647081 || Stock Point Name: OmniHub Alimosho Lagos - Barka-Agro and General Services MFC\n",
      "Total Quantity before filter: 3,114\n",
      "Total Quantity: 2,023\n",
      "Total Number of Customers before filter: 203\n",
      "Total Number of Customers: 130\n"
     ]
    },
    {
     "name": "stderr",
     "output_type": "stream",
     "text": [
      "INFO: ✓ Created 11 clusters for Stock Point 1647081 using divisive clustering method\n",
      "INFO: ----------------------------------------\n"
     ]
    },
    {
     "name": "stdout",
     "output_type": "stream",
     "text": [
      "Silhouette Score: 0.36\n",
      "Davies-Bouldin Index: 0.68\n",
      "Calinski-Harabasz Score: 49150.06\n"
     ]
    },
    {
     "name": "stderr",
     "output_type": "stream",
     "text": [
      "INFO: 4. Route Analysis & Results...\n",
      "INFO: ----------------------------------------\n",
      "INFO: Calculating route...\n",
      "INFO: Starting route calculations for all trips...\n",
      "INFO:   Error calculating route for Trip ID 7: 400 ({\"error_code\":171,\"error\":\"No suitable edges near location\",\"status_code\":400,\"status\":\"Bad Request\"})\n",
      "INFO: All route calculations completed.\n",
      "\n"
     ]
    },
    {
     "name": "stdout",
     "output_type": "stream",
     "text": [
      "Skipping plotting for Trip ID 7 due to error: 400 ({\"error_code\":171,\"error\":\"No suitable edges near location\",\"status_code\":400,\"status\":\"Bad Request\"})\n"
     ]
    },
    {
     "name": "stderr",
     "output_type": "stream",
     "text": [
      "INFO: Map saved to /home/azureuser/BT/11_Demand_Engine/Algorithm_V1/recommendation_output/selected_trip_map/2025-07-04/1647081.html\n",
      "INFO: Route map created successfully: /home/azureuser/BT/11_Demand_Engine/Algorithm_V1/recommendation_output/selected_trip_map/2025-07-04/1647081.html\n",
      "INFO: Plotting cluster without route calculation...\n"
     ]
    },
    {
     "name": "stdout",
     "output_type": "stream",
     "text": [
      "Warning: Missing optional columns in popup_cols: ['TotalQuantity']. These will be ignored.\n"
     ]
    },
    {
     "name": "stderr",
     "output_type": "stream",
     "text": [
      "INFO: Map saved to /home/azureuser/BT/11_Demand_Engine/Algorithm_V1/recommendation_output/cluster_map/2025-07-04/1647081.html\n",
      "INFO: ================================================================================\n",
      "INFO: ROUTE OPTIMIZATION FOR PUSH SALES RECOMMENDATIONS\n",
      "INFO: StockPoint: OmniHub Ifako Ijaiye Lagos - Bickson, StockPointID: 1647398,\n",
      "INFO: ================================================================================\n",
      "INFO: \n",
      "1. Loading Data...\n",
      "INFO: ----------------------------------------\n",
      "INFO: ✓ Loaded 287 SKU recommendations\n",
      "INFO: ✓ Loaded 66 customer records\n",
      "INFO: ✓ Loaded 1 stock points\n",
      "INFO: ✓ Route optimizer initialized\n",
      "INFO: \n",
      "3. Generating Optimized Routes...\n",
      "INFO: ----------------------------------------\n",
      "INFO: ✓ Created 3 clusters for Stock Point 1647398 using divisive clustering method\n",
      "INFO: ----------------------------------------\n"
     ]
    },
    {
     "name": "stdout",
     "output_type": "stream",
     "text": [
      "11/72 \n",
      "Stock Point ID: 1647398 || Stock Point Name: OmniHub Ifako Ijaiye Lagos - Bickson\n",
      "Total Quantity before filter: 1,551\n",
      "Total Quantity: 1,083\n",
      "Total Number of Customers before filter: 95\n",
      "Total Number of Customers: 66\n",
      "Silhouette Score: 0.46\n",
      "Davies-Bouldin Index: 0.78\n",
      "Calinski-Harabasz Score: 55.24\n"
     ]
    },
    {
     "name": "stderr",
     "output_type": "stream",
     "text": [
      "INFO: 4. Route Analysis & Results...\n",
      "INFO: ----------------------------------------\n",
      "INFO: Calculating route...\n",
      "INFO: Starting route calculations for all trips...\n",
      "INFO: All route calculations completed.\n",
      "\n",
      "INFO: Map saved to /home/azureuser/BT/11_Demand_Engine/Algorithm_V1/recommendation_output/selected_trip_map/2025-07-04/1647398.html\n",
      "INFO: Route map created successfully: /home/azureuser/BT/11_Demand_Engine/Algorithm_V1/recommendation_output/selected_trip_map/2025-07-04/1647398.html\n",
      "INFO: Plotting cluster without route calculation...\n",
      "INFO: Map saved to /home/azureuser/BT/11_Demand_Engine/Algorithm_V1/recommendation_output/cluster_map/2025-07-04/1647398.html\n"
     ]
    },
    {
     "name": "stdout",
     "output_type": "stream",
     "text": [
      "Warning: Missing optional columns in popup_cols: ['TotalQuantity']. These will be ignored.\n"
     ]
    },
    {
     "name": "stderr",
     "output_type": "stream",
     "text": [
      "INFO: ================================================================================\n",
      "INFO: ROUTE OPTIMIZATION FOR PUSH SALES RECOMMENDATIONS\n",
      "INFO: StockPoint: OmniHub Ido Oyo - CARESGATE AFRICA LTD, StockPointID: 1646941,\n",
      "INFO: ================================================================================\n",
      "INFO: \n",
      "1. Loading Data...\n",
      "INFO: ----------------------------------------\n",
      "INFO: ✓ Loaded 229 SKU recommendations\n",
      "INFO: ✓ Loaded 85 customer records\n",
      "INFO: ✓ Loaded 1 stock points\n",
      "INFO: ✓ Route optimizer initialized\n",
      "INFO: \n",
      "3. Generating Optimized Routes...\n",
      "INFO: ----------------------------------------\n"
     ]
    },
    {
     "name": "stdout",
     "output_type": "stream",
     "text": [
      "12/72 \n",
      "Stock Point ID: 1646941 || Stock Point Name: OmniHub Ido Oyo - CARESGATE AFRICA LTD\n",
      "Total Quantity before filter: 1,236\n",
      "Total Quantity: 921\n",
      "Total Number of Customers before filter: 112\n",
      "Total Number of Customers: 85\n"
     ]
    },
    {
     "name": "stderr",
     "output_type": "stream",
     "text": [
      "INFO: ✓ Created 7 clusters for Stock Point 1646941 using divisive clustering method\n",
      "INFO: ----------------------------------------\n"
     ]
    },
    {
     "name": "stdout",
     "output_type": "stream",
     "text": [
      "Silhouette Score: 0.42\n",
      "Davies-Bouldin Index: 0.51\n",
      "Calinski-Harabasz Score: 14269.83\n"
     ]
    },
    {
     "name": "stderr",
     "output_type": "stream",
     "text": [
      "INFO: 4. Route Analysis & Results...\n",
      "INFO: ----------------------------------------\n",
      "INFO: Calculating route...\n",
      "INFO: Starting route calculations for all trips...\n",
      "INFO:   Error calculating route for Trip ID 5: 400 ({\"error_code\":171,\"error\":\"No suitable edges near location\",\"status_code\":400,\"status\":\"Bad Request\"})\n",
      "INFO: All route calculations completed.\n",
      "\n"
     ]
    },
    {
     "name": "stdout",
     "output_type": "stream",
     "text": [
      "Skipping plotting for Trip ID 5 due to error: 400 ({\"error_code\":171,\"error\":\"No suitable edges near location\",\"status_code\":400,\"status\":\"Bad Request\"})\n"
     ]
    },
    {
     "name": "stderr",
     "output_type": "stream",
     "text": [
      "INFO: Map saved to /home/azureuser/BT/11_Demand_Engine/Algorithm_V1/recommendation_output/selected_trip_map/2025-07-04/1646941.html\n",
      "INFO: Route map created successfully: /home/azureuser/BT/11_Demand_Engine/Algorithm_V1/recommendation_output/selected_trip_map/2025-07-04/1646941.html\n",
      "INFO: Plotting cluster without route calculation...\n",
      "INFO: Map saved to /home/azureuser/BT/11_Demand_Engine/Algorithm_V1/recommendation_output/cluster_map/2025-07-04/1646941.html\n"
     ]
    },
    {
     "name": "stdout",
     "output_type": "stream",
     "text": [
      "Warning: Missing optional columns in popup_cols: ['TotalQuantity']. These will be ignored.\n"
     ]
    },
    {
     "name": "stderr",
     "output_type": "stream",
     "text": [
      "INFO: ================================================================================\n",
      "INFO: ROUTE OPTIMIZATION FOR PUSH SALES RECOMMENDATIONS\n",
      "INFO: StockPoint: OmniHub Ado Odo/Ota Ogun - RAZCO ENERGY, StockPointID: 1646945,\n",
      "INFO: ================================================================================\n",
      "INFO: \n",
      "1. Loading Data...\n",
      "INFO: ----------------------------------------\n",
      "INFO: ================================================================================\n",
      "INFO: ROUTE OPTIMIZATION FOR PUSH SALES RECOMMENDATIONS\n",
      "INFO: StockPoint: OmniHub Eti Osa Lagos - Motomori, StockPointID: 1646999,\n",
      "INFO: ================================================================================\n",
      "INFO: \n",
      "1. Loading Data...\n",
      "INFO: ----------------------------------------\n",
      "INFO: ✓ Loaded 510 SKU recommendations\n",
      "INFO: ✓ Loaded 114 customer records\n",
      "INFO: ✓ Loaded 1 stock points\n",
      "INFO: ✓ Route optimizer initialized\n",
      "INFO: \n",
      "3. Generating Optimized Routes...\n",
      "INFO: ----------------------------------------\n"
     ]
    },
    {
     "name": "stdout",
     "output_type": "stream",
     "text": [
      "13/72 \n",
      "Stock Point ID: 1646945 || Stock Point Name: OmniHub Ado Odo/Ota Ogun - RAZCO ENERGY\n",
      "Total Quantity before filter: 0\n",
      "Total Quantity: 0\n",
      "Total Number of Customers before filter: 0\n",
      "Total Number of Customers: 0\n",
      "14/72 \n",
      "Stock Point ID: 1646999 || Stock Point Name: OmniHub Eti Osa Lagos - Motomori\n",
      "Total Quantity before filter: 2,782\n",
      "Total Quantity: 2,117\n",
      "Total Number of Customers before filter: 154\n",
      "Total Number of Customers: 114\n"
     ]
    },
    {
     "name": "stderr",
     "output_type": "stream",
     "text": [
      "INFO: ✓ Created 12 clusters for Stock Point 1646999 using divisive clustering method\n",
      "INFO: ----------------------------------------\n"
     ]
    },
    {
     "name": "stdout",
     "output_type": "stream",
     "text": [
      "Silhouette Score: 0.33\n",
      "Davies-Bouldin Index: 0.64\n",
      "Calinski-Harabasz Score: 3645.29\n"
     ]
    },
    {
     "name": "stderr",
     "output_type": "stream",
     "text": [
      "INFO: 4. Route Analysis & Results...\n",
      "INFO: ----------------------------------------\n",
      "INFO: Calculating route...\n",
      "INFO: Starting route calculations for all trips...\n",
      "INFO: All route calculations completed.\n",
      "\n",
      "INFO: Map saved to /home/azureuser/BT/11_Demand_Engine/Algorithm_V1/recommendation_output/selected_trip_map/2025-07-04/1646999.html\n",
      "INFO: Route map created successfully: /home/azureuser/BT/11_Demand_Engine/Algorithm_V1/recommendation_output/selected_trip_map/2025-07-04/1646999.html\n",
      "INFO: Plotting cluster without route calculation...\n"
     ]
    },
    {
     "name": "stdout",
     "output_type": "stream",
     "text": [
      "Warning: Missing optional columns in popup_cols: ['TotalQuantity']. These will be ignored.\n"
     ]
    },
    {
     "name": "stderr",
     "output_type": "stream",
     "text": [
      "INFO: Map saved to /home/azureuser/BT/11_Demand_Engine/Algorithm_V1/recommendation_output/cluster_map/2025-07-04/1646999.html\n",
      "INFO: ================================================================================\n",
      "INFO: ROUTE OPTIMIZATION FOR PUSH SALES RECOMMENDATIONS\n",
      "INFO: StockPoint: OmniHub Alimosho Lagos - LARDAMIC, StockPointID: 1647010,\n",
      "INFO: ================================================================================\n",
      "INFO: \n",
      "1. Loading Data...\n",
      "INFO: ----------------------------------------\n",
      "INFO: ✓ Loaded 469 SKU recommendations\n",
      "INFO: ✓ Loaded 108 customer records\n",
      "INFO: ✓ Loaded 1 stock points\n",
      "INFO: ✓ Route optimizer initialized\n",
      "INFO: \n",
      "3. Generating Optimized Routes...\n",
      "INFO: ----------------------------------------\n"
     ]
    },
    {
     "name": "stdout",
     "output_type": "stream",
     "text": [
      "15/72 \n",
      "Stock Point ID: 1647010 || Stock Point Name: OmniHub Alimosho Lagos - LARDAMIC\n",
      "Total Quantity before filter: 2,593\n",
      "Total Quantity: 1,847\n",
      "Total Number of Customers before filter: 151\n",
      "Total Number of Customers: 108\n"
     ]
    },
    {
     "name": "stderr",
     "output_type": "stream",
     "text": [
      "INFO: ✓ Created 11 clusters for Stock Point 1647010 using divisive clustering method\n",
      "INFO: ----------------------------------------\n"
     ]
    },
    {
     "name": "stdout",
     "output_type": "stream",
     "text": [
      "Silhouette Score: 0.36\n",
      "Davies-Bouldin Index: 0.68\n",
      "Calinski-Harabasz Score: 4067.98\n"
     ]
    },
    {
     "name": "stderr",
     "output_type": "stream",
     "text": [
      "INFO: 4. Route Analysis & Results...\n",
      "INFO: ----------------------------------------\n",
      "INFO: Calculating route...\n",
      "INFO: Starting route calculations for all trips...\n",
      "INFO: All route calculations completed.\n",
      "\n",
      "INFO: Map saved to /home/azureuser/BT/11_Demand_Engine/Algorithm_V1/recommendation_output/selected_trip_map/2025-07-04/1647010.html\n",
      "INFO: Route map created successfully: /home/azureuser/BT/11_Demand_Engine/Algorithm_V1/recommendation_output/selected_trip_map/2025-07-04/1647010.html\n",
      "INFO: Plotting cluster without route calculation...\n"
     ]
    },
    {
     "name": "stdout",
     "output_type": "stream",
     "text": [
      "Warning: Missing optional columns in popup_cols: ['TotalQuantity']. These will be ignored.\n"
     ]
    },
    {
     "name": "stderr",
     "output_type": "stream",
     "text": [
      "INFO: Map saved to /home/azureuser/BT/11_Demand_Engine/Algorithm_V1/recommendation_output/cluster_map/2025-07-04/1647010.html\n",
      "INFO: ================================================================================\n",
      "INFO: ROUTE OPTIMIZATION FOR PUSH SALES RECOMMENDATIONS\n",
      "INFO: StockPoint: OmniHub Badagry Lagos - STEAVESON, StockPointID: 1646991,\n",
      "INFO: ================================================================================\n",
      "INFO: \n",
      "1. Loading Data...\n",
      "INFO: ----------------------------------------\n",
      "INFO: ✓ Loaded 438 SKU recommendations\n",
      "INFO: ✓ Loaded 132 customer records\n",
      "INFO: ✓ Loaded 1 stock points\n",
      "INFO: ✓ Route optimizer initialized\n",
      "INFO: \n",
      "3. Generating Optimized Routes...\n",
      "INFO: ----------------------------------------\n"
     ]
    },
    {
     "name": "stdout",
     "output_type": "stream",
     "text": [
      "16/72 \n",
      "Stock Point ID: 1646991 || Stock Point Name: OmniHub Badagry Lagos - STEAVESON\n",
      "Total Quantity before filter: 2,254\n",
      "Total Quantity: 1,668\n",
      "Total Number of Customers before filter: 180\n",
      "Total Number of Customers: 132\n"
     ]
    },
    {
     "name": "stderr",
     "output_type": "stream",
     "text": [
      "INFO: ✓ Created 12 clusters for Stock Point 1646991 using divisive clustering method\n",
      "INFO: ----------------------------------------\n"
     ]
    },
    {
     "name": "stdout",
     "output_type": "stream",
     "text": [
      "Silhouette Score: 0.6\n",
      "Davies-Bouldin Index: 0.49\n",
      "Calinski-Harabasz Score: 12780.81\n"
     ]
    },
    {
     "name": "stderr",
     "output_type": "stream",
     "text": [
      "INFO: 4. Route Analysis & Results...\n",
      "INFO: ----------------------------------------\n",
      "INFO: Calculating route...\n",
      "INFO: Starting route calculations for all trips...\n",
      "INFO: All route calculations completed.\n",
      "\n",
      "INFO: Map saved to /home/azureuser/BT/11_Demand_Engine/Algorithm_V1/recommendation_output/selected_trip_map/2025-07-04/1646991.html\n",
      "INFO: Route map created successfully: /home/azureuser/BT/11_Demand_Engine/Algorithm_V1/recommendation_output/selected_trip_map/2025-07-04/1646991.html\n",
      "INFO: Plotting cluster without route calculation...\n"
     ]
    },
    {
     "name": "stdout",
     "output_type": "stream",
     "text": [
      "Warning: Missing optional columns in popup_cols: ['TotalQuantity']. These will be ignored.\n"
     ]
    },
    {
     "name": "stderr",
     "output_type": "stream",
     "text": [
      "INFO: Map saved to /home/azureuser/BT/11_Demand_Engine/Algorithm_V1/recommendation_output/cluster_map/2025-07-04/1646991.html\n",
      "INFO: ================================================================================\n",
      "INFO: ROUTE OPTIMIZATION FOR PUSH SALES RECOMMENDATIONS\n",
      "INFO: StockPoint: OmniHub Oyigbo Rivers - LAMDA GLOBAL, StockPointID: 1647024,\n",
      "INFO: ================================================================================\n",
      "INFO: \n",
      "1. Loading Data...\n",
      "INFO: ----------------------------------------\n",
      "INFO: ✓ Loaded 844 SKU recommendations\n",
      "INFO: ✓ Loaded 170 customer records\n",
      "INFO: ✓ Loaded 1 stock points\n",
      "INFO: ✓ Route optimizer initialized\n",
      "INFO: \n",
      "3. Generating Optimized Routes...\n",
      "INFO: ----------------------------------------\n"
     ]
    },
    {
     "name": "stdout",
     "output_type": "stream",
     "text": [
      "17/72 \n",
      "Stock Point ID: 1647024 || Stock Point Name: OmniHub Oyigbo Rivers - LAMDA GLOBAL\n",
      "Total Quantity before filter: 6,598\n",
      "Total Quantity: 3,863\n",
      "Total Number of Customers before filter: 297\n",
      "Total Number of Customers: 170\n"
     ]
    },
    {
     "name": "stderr",
     "output_type": "stream",
     "text": [
      "INFO: ✓ Created 18 clusters for Stock Point 1647024 using divisive clustering method\n",
      "INFO: ----------------------------------------\n"
     ]
    },
    {
     "name": "stdout",
     "output_type": "stream",
     "text": [
      "Silhouette Score: 0.59\n",
      "Davies-Bouldin Index: 0.6\n",
      "Calinski-Harabasz Score: 486944.33\n"
     ]
    },
    {
     "name": "stderr",
     "output_type": "stream",
     "text": [
      "INFO: 4. Route Analysis & Results...\n",
      "INFO: ----------------------------------------\n",
      "INFO: Calculating route...\n",
      "INFO: Starting route calculations for all trips...\n",
      "INFO: All route calculations completed.\n",
      "\n",
      "INFO: Map saved to /home/azureuser/BT/11_Demand_Engine/Algorithm_V1/recommendation_output/selected_trip_map/2025-07-04/1647024.html\n",
      "INFO: Route map created successfully: /home/azureuser/BT/11_Demand_Engine/Algorithm_V1/recommendation_output/selected_trip_map/2025-07-04/1647024.html\n",
      "INFO: Plotting cluster without route calculation...\n"
     ]
    },
    {
     "name": "stdout",
     "output_type": "stream",
     "text": [
      "Warning: Missing optional columns in popup_cols: ['TotalQuantity']. These will be ignored.\n"
     ]
    },
    {
     "name": "stderr",
     "output_type": "stream",
     "text": [
      "INFO: Map saved to /home/azureuser/BT/11_Demand_Engine/Algorithm_V1/recommendation_output/cluster_map/2025-07-04/1647024.html\n",
      "INFO: ================================================================================\n",
      "INFO: ROUTE OPTIMIZATION FOR PUSH SALES RECOMMENDATIONS\n",
      "INFO: StockPoint: OmniHub Amuwo Odofin Lagos - GOLDVIRTUES, StockPointID: 1646989,\n",
      "INFO: ================================================================================\n",
      "INFO: \n",
      "1. Loading Data...\n",
      "INFO: ----------------------------------------\n",
      "INFO: ================================================================================\n",
      "INFO: ROUTE OPTIMIZATION FOR PUSH SALES RECOMMENDATIONS\n",
      "INFO: StockPoint: OmniHub Ilorin_East Kwara - REAL HEIGHT SERVICES, StockPointID: 1647033,\n",
      "INFO: ================================================================================\n",
      "INFO: \n",
      "1. Loading Data...\n",
      "INFO: ----------------------------------------\n",
      "INFO: ✓ Loaded 212 SKU recommendations\n",
      "INFO: ✓ Loaded 65 customer records\n",
      "INFO: ✓ Loaded 1 stock points\n",
      "INFO: ✓ Route optimizer initialized\n",
      "INFO: \n",
      "3. Generating Optimized Routes...\n",
      "INFO: ----------------------------------------\n"
     ]
    },
    {
     "name": "stdout",
     "output_type": "stream",
     "text": [
      "18/72 \n",
      "Stock Point ID: 1646989 || Stock Point Name: OmniHub Amuwo Odofin Lagos - GOLDVIRTUES\n",
      "Total Quantity before filter: 0\n",
      "Total Quantity: 0\n",
      "Total Number of Customers before filter: 0\n",
      "Total Number of Customers: 0\n",
      "19/72 \n",
      "Stock Point ID: 1647033 || Stock Point Name: OmniHub Ilorin_East Kwara - REAL HEIGHT SERVICES\n",
      "Total Quantity before filter: 1,298\n",
      "Total Quantity: 952\n",
      "Total Number of Customers before filter: 91\n",
      "Total Number of Customers: 65\n"
     ]
    },
    {
     "name": "stderr",
     "output_type": "stream",
     "text": [
      "INFO: ✓ Created 8 clusters for Stock Point 1647033 using divisive clustering method\n",
      "INFO: ----------------------------------------\n"
     ]
    },
    {
     "name": "stdout",
     "output_type": "stream",
     "text": [
      "Silhouette Score: 0.53\n",
      "Davies-Bouldin Index: 0.29\n",
      "Calinski-Harabasz Score: 2345864.03\n"
     ]
    },
    {
     "name": "stderr",
     "output_type": "stream",
     "text": [
      "INFO: 4. Route Analysis & Results...\n",
      "INFO: ----------------------------------------\n",
      "INFO: Calculating route...\n",
      "INFO: Starting route calculations for all trips...\n",
      "INFO: All route calculations completed.\n",
      "\n",
      "INFO: Map saved to /home/azureuser/BT/11_Demand_Engine/Algorithm_V1/recommendation_output/selected_trip_map/2025-07-04/1647033.html\n",
      "INFO: Route map created successfully: /home/azureuser/BT/11_Demand_Engine/Algorithm_V1/recommendation_output/selected_trip_map/2025-07-04/1647033.html\n",
      "INFO: Plotting cluster without route calculation...\n",
      "INFO: Map saved to /home/azureuser/BT/11_Demand_Engine/Algorithm_V1/recommendation_output/cluster_map/2025-07-04/1647033.html\n"
     ]
    },
    {
     "name": "stdout",
     "output_type": "stream",
     "text": [
      "Warning: Missing optional columns in popup_cols: ['TotalQuantity']. These will be ignored.\n"
     ]
    },
    {
     "name": "stderr",
     "output_type": "stream",
     "text": [
      "INFO: ================================================================================\n",
      "INFO: ROUTE OPTIMIZATION FOR PUSH SALES RECOMMENDATIONS\n",
      "INFO: StockPoint: , StockPointID: 1646976,\n",
      "INFO: ================================================================================\n",
      "INFO: \n",
      "1. Loading Data...\n",
      "INFO: ----------------------------------------\n",
      "INFO: ================================================================================\n",
      "INFO: ROUTE OPTIMIZATION FOR PUSH SALES RECOMMENDATIONS\n",
      "INFO: StockPoint: OmniHub Abeokuta Ogun - Brooks, StockPointID: 1646971,\n",
      "INFO: ================================================================================\n",
      "INFO: \n",
      "1. Loading Data...\n",
      "INFO: ----------------------------------------\n",
      "INFO: ✓ Loaded 263 SKU recommendations\n",
      "INFO: ✓ Loaded 75 customer records\n",
      "INFO: ✓ Loaded 1 stock points\n",
      "INFO: ✓ Route optimizer initialized\n",
      "INFO: \n",
      "3. Generating Optimized Routes...\n",
      "INFO: ----------------------------------------\n"
     ]
    },
    {
     "name": "stdout",
     "output_type": "stream",
     "text": [
      "20/72 \n",
      "Stock Point ID: 1646976 || Stock Point Name: \n",
      "Total Quantity before filter: 0\n",
      "Total Quantity: 0\n",
      "Total Number of Customers before filter: 0\n",
      "Total Number of Customers: 0\n",
      "21/72 \n",
      "Stock Point ID: 1646971 || Stock Point Name: OmniHub Abeokuta Ogun - Brooks\n",
      "Total Quantity before filter: 1,326\n",
      "Total Quantity: 1,031\n",
      "Total Number of Customers before filter: 96\n",
      "Total Number of Customers: 75\n"
     ]
    },
    {
     "name": "stderr",
     "output_type": "stream",
     "text": [
      "INFO: ✓ Created 8 clusters for Stock Point 1646971 using divisive clustering method\n",
      "INFO: ----------------------------------------\n"
     ]
    },
    {
     "name": "stdout",
     "output_type": "stream",
     "text": [
      "Silhouette Score: 0.37\n",
      "Davies-Bouldin Index: 0.49\n",
      "Calinski-Harabasz Score: 3835632.27\n"
     ]
    },
    {
     "name": "stderr",
     "output_type": "stream",
     "text": [
      "INFO: 4. Route Analysis & Results...\n",
      "INFO: ----------------------------------------\n",
      "INFO: Calculating route...\n",
      "INFO: Starting route calculations for all trips...\n",
      "INFO: All route calculations completed.\n",
      "\n",
      "INFO: Map saved to /home/azureuser/BT/11_Demand_Engine/Algorithm_V1/recommendation_output/selected_trip_map/2025-07-04/1646971.html\n",
      "INFO: Route map created successfully: /home/azureuser/BT/11_Demand_Engine/Algorithm_V1/recommendation_output/selected_trip_map/2025-07-04/1646971.html\n",
      "INFO: Plotting cluster without route calculation...\n",
      "INFO: Map saved to /home/azureuser/BT/11_Demand_Engine/Algorithm_V1/recommendation_output/cluster_map/2025-07-04/1646971.html\n"
     ]
    },
    {
     "name": "stdout",
     "output_type": "stream",
     "text": [
      "Warning: Missing optional columns in popup_cols: ['TotalQuantity']. These will be ignored.\n"
     ]
    },
    {
     "name": "stderr",
     "output_type": "stream",
     "text": [
      "INFO: ================================================================================\n",
      "INFO: ROUTE OPTIMIZATION FOR PUSH SALES RECOMMENDATIONS\n",
      "INFO: StockPoint: OmniHub Badagry Lagos - NEEMYGHT MULTI-VENTURE ENTERPRISES, StockPointID: 1647011,\n",
      "INFO: ================================================================================\n",
      "INFO: \n",
      "1. Loading Data...\n",
      "INFO: ----------------------------------------\n",
      "INFO: ================================================================================\n",
      "INFO: ROUTE OPTIMIZATION FOR PUSH SALES RECOMMENDATIONS\n",
      "INFO: StockPoint: OMNIHUB-OREDO-EDO-AMA-PEE ENTERPRISE, StockPointID: 1647050,\n",
      "INFO: ================================================================================\n",
      "INFO: \n",
      "1. Loading Data...\n",
      "INFO: ----------------------------------------\n",
      "INFO: ✓ Loaded 250 SKU recommendations\n",
      "INFO: ✓ Loaded 94 customer records\n",
      "INFO: ✓ Loaded 1 stock points\n",
      "INFO: ✓ Route optimizer initialized\n",
      "INFO: \n",
      "3. Generating Optimized Routes...\n",
      "INFO: ----------------------------------------\n"
     ]
    },
    {
     "name": "stdout",
     "output_type": "stream",
     "text": [
      "22/72 \n",
      "Stock Point ID: 1647011 || Stock Point Name: OmniHub Badagry Lagos - NEEMYGHT MULTI-VENTURE ENTERPRISES\n",
      "Total Quantity before filter: 15\n",
      "Total Quantity: 15\n",
      "Total Number of Customers before filter: 1\n",
      "Total Number of Customers: 1\n",
      "23/72 \n",
      "Stock Point ID: 1647050 || Stock Point Name: OMNIHUB-OREDO-EDO-AMA-PEE ENTERPRISE\n",
      "Total Quantity before filter: 1,578\n",
      "Total Quantity: 1,033\n",
      "Total Number of Customers before filter: 156\n",
      "Total Number of Customers: 94\n"
     ]
    },
    {
     "name": "stderr",
     "output_type": "stream",
     "text": [
      "INFO: ✓ Created 8 clusters for Stock Point 1647050 using divisive clustering method\n",
      "INFO: ----------------------------------------\n"
     ]
    },
    {
     "name": "stdout",
     "output_type": "stream",
     "text": [
      "Silhouette Score: 0.43\n",
      "Davies-Bouldin Index: 0.56\n",
      "Calinski-Harabasz Score: 234.37\n"
     ]
    },
    {
     "name": "stderr",
     "output_type": "stream",
     "text": [
      "INFO: 4. Route Analysis & Results...\n",
      "INFO: ----------------------------------------\n",
      "INFO: Calculating route...\n",
      "INFO: Starting route calculations for all trips...\n",
      "INFO: All route calculations completed.\n",
      "\n",
      "INFO: Map saved to /home/azureuser/BT/11_Demand_Engine/Algorithm_V1/recommendation_output/selected_trip_map/2025-07-04/1647050.html\n",
      "INFO: Route map created successfully: /home/azureuser/BT/11_Demand_Engine/Algorithm_V1/recommendation_output/selected_trip_map/2025-07-04/1647050.html\n",
      "INFO: Plotting cluster without route calculation...\n",
      "INFO: Map saved to /home/azureuser/BT/11_Demand_Engine/Algorithm_V1/recommendation_output/cluster_map/2025-07-04/1647050.html\n"
     ]
    },
    {
     "name": "stdout",
     "output_type": "stream",
     "text": [
      "Warning: Missing optional columns in popup_cols: ['TotalQuantity']. These will be ignored.\n"
     ]
    },
    {
     "name": "stderr",
     "output_type": "stream",
     "text": [
      "INFO: ================================================================================\n",
      "INFO: ROUTE OPTIMIZATION FOR PUSH SALES RECOMMENDATIONS\n",
      "INFO: StockPoint: OmniHub Ogba/Egbema Ndoni Rivers - JIB, StockPointID: 1647006,\n",
      "INFO: ================================================================================\n",
      "INFO: \n",
      "1. Loading Data...\n",
      "INFO: ----------------------------------------\n",
      "INFO: ================================================================================\n",
      "INFO: ROUTE OPTIMIZATION FOR PUSH SALES RECOMMENDATIONS\n",
      "INFO: StockPoint: OmniHub Epe Lagos - WONUOLA SUPER STORE, StockPointID: 1646995,\n",
      "INFO: ================================================================================\n",
      "INFO: \n",
      "1. Loading Data...\n",
      "INFO: ----------------------------------------\n",
      "INFO: ================================================================================\n",
      "INFO: ROUTE OPTIMIZATION FOR PUSH SALES RECOMMENDATIONS\n",
      "INFO: StockPoint: OmniHub Ibeju Lekki Lagos - SI & A, StockPointID: 1647391,\n",
      "INFO: ================================================================================\n",
      "INFO: \n",
      "1. Loading Data...\n",
      "INFO: ----------------------------------------\n"
     ]
    },
    {
     "name": "stdout",
     "output_type": "stream",
     "text": [
      "24/72 \n",
      "Stock Point ID: 1647006 || Stock Point Name: OmniHub Ogba/Egbema Ndoni Rivers - JIB\n",
      "Total Quantity before filter: 0\n",
      "Total Quantity: 0\n",
      "Total Number of Customers before filter: 0\n",
      "Total Number of Customers: 0\n",
      "25/72 \n",
      "Stock Point ID: 1646995 || Stock Point Name: OmniHub Epe Lagos - WONUOLA SUPER STORE\n",
      "Total Quantity before filter: 0\n",
      "Total Quantity: 0\n",
      "Total Number of Customers before filter: 0\n",
      "Total Number of Customers: 0\n",
      "26/72 \n",
      "Stock Point ID: 1647391 || Stock Point Name: OmniHub Ibeju Lekki Lagos - SI & A\n"
     ]
    },
    {
     "name": "stderr",
     "output_type": "stream",
     "text": [
      "INFO: ✓ Loaded 171 SKU recommendations\n",
      "INFO: ✓ Loaded 43 customer records\n",
      "INFO: ✓ Loaded 1 stock points\n",
      "INFO: ✓ Route optimizer initialized\n",
      "INFO: \n",
      "3. Generating Optimized Routes...\n",
      "INFO: ----------------------------------------\n",
      "INFO: ✓ Created 4 clusters for Stock Point 1647391 using divisive clustering method\n",
      "INFO: ----------------------------------------\n"
     ]
    },
    {
     "name": "stdout",
     "output_type": "stream",
     "text": [
      "Total Quantity before filter: 851\n",
      "Total Quantity: 664\n",
      "Total Number of Customers before filter: 55\n",
      "Total Number of Customers: 43\n",
      "Silhouette Score: 0.74\n",
      "Davies-Bouldin Index: 0.3\n",
      "Calinski-Harabasz Score: 9982.72\n"
     ]
    },
    {
     "name": "stderr",
     "output_type": "stream",
     "text": [
      "INFO: 4. Route Analysis & Results...\n",
      "INFO: ----------------------------------------\n",
      "INFO: Calculating route...\n",
      "INFO: Starting route calculations for all trips...\n",
      "INFO: All route calculations completed.\n",
      "\n",
      "INFO: Map saved to /home/azureuser/BT/11_Demand_Engine/Algorithm_V1/recommendation_output/selected_trip_map/2025-07-04/1647391.html\n",
      "INFO: Route map created successfully: /home/azureuser/BT/11_Demand_Engine/Algorithm_V1/recommendation_output/selected_trip_map/2025-07-04/1647391.html\n",
      "INFO: Plotting cluster without route calculation...\n",
      "INFO: Map saved to /home/azureuser/BT/11_Demand_Engine/Algorithm_V1/recommendation_output/cluster_map/2025-07-04/1647391.html\n"
     ]
    },
    {
     "name": "stdout",
     "output_type": "stream",
     "text": [
      "Warning: Missing optional columns in popup_cols: ['TotalQuantity']. These will be ignored.\n"
     ]
    },
    {
     "name": "stderr",
     "output_type": "stream",
     "text": [
      "INFO: ================================================================================\n",
      "INFO: ROUTE OPTIMIZATION FOR PUSH SALES RECOMMENDATIONS\n",
      "INFO: StockPoint: OmniHub AMAC 1 Abuja - Roekwi, StockPointID: 1647372,\n",
      "INFO: ================================================================================\n",
      "INFO: \n",
      "1. Loading Data...\n",
      "INFO: ----------------------------------------\n",
      "INFO: ✓ Loaded 544 SKU recommendations\n",
      "INFO: ✓ Loaded 128 customer records\n",
      "INFO: ✓ Loaded 1 stock points\n",
      "INFO: ✓ Route optimizer initialized\n",
      "INFO: \n",
      "3. Generating Optimized Routes...\n",
      "INFO: ----------------------------------------\n"
     ]
    },
    {
     "name": "stdout",
     "output_type": "stream",
     "text": [
      "27/72 \n",
      "Stock Point ID: 1647372 || Stock Point Name: OmniHub AMAC 1 Abuja - Roekwi\n",
      "Total Quantity before filter: 2,709\n",
      "Total Quantity: 1,816\n",
      "Total Number of Customers before filter: 194\n",
      "Total Number of Customers: 128\n"
     ]
    },
    {
     "name": "stderr",
     "output_type": "stream",
     "text": [
      "INFO: ✓ Created 13 clusters for Stock Point 1647372 using divisive clustering method\n",
      "INFO: ----------------------------------------\n"
     ]
    },
    {
     "name": "stdout",
     "output_type": "stream",
     "text": [
      "Silhouette Score: 0.54\n",
      "Davies-Bouldin Index: 0.69\n",
      "Calinski-Harabasz Score: 385.84\n"
     ]
    },
    {
     "name": "stderr",
     "output_type": "stream",
     "text": [
      "INFO: 4. Route Analysis & Results...\n",
      "INFO: ----------------------------------------\n",
      "INFO: Calculating route...\n",
      "INFO: Starting route calculations for all trips...\n",
      "INFO: All route calculations completed.\n",
      "\n",
      "INFO: Map saved to /home/azureuser/BT/11_Demand_Engine/Algorithm_V1/recommendation_output/selected_trip_map/2025-07-04/1647372.html\n",
      "INFO: Route map created successfully: /home/azureuser/BT/11_Demand_Engine/Algorithm_V1/recommendation_output/selected_trip_map/2025-07-04/1647372.html\n",
      "INFO: Plotting cluster without route calculation...\n"
     ]
    },
    {
     "name": "stdout",
     "output_type": "stream",
     "text": [
      "Warning: Missing optional columns in popup_cols: ['TotalQuantity']. These will be ignored.\n"
     ]
    },
    {
     "name": "stderr",
     "output_type": "stream",
     "text": [
      "INFO: Map saved to /home/azureuser/BT/11_Demand_Engine/Algorithm_V1/recommendation_output/cluster_map/2025-07-04/1647372.html\n",
      "INFO: ================================================================================\n",
      "INFO: ROUTE OPTIMIZATION FOR PUSH SALES RECOMMENDATIONS\n",
      "INFO: StockPoint: OmniHub Ikorodu Lagos - Sitrest, StockPointID: 1647377,\n",
      "INFO: ================================================================================\n",
      "INFO: \n",
      "1. Loading Data...\n",
      "INFO: ----------------------------------------\n",
      "INFO: ✓ Loaded 481 SKU recommendations\n",
      "INFO: ✓ Loaded 104 customer records\n",
      "INFO: ✓ Loaded 1 stock points\n",
      "INFO: ✓ Route optimizer initialized\n",
      "INFO: \n",
      "3. Generating Optimized Routes...\n",
      "INFO: ----------------------------------------\n"
     ]
    },
    {
     "name": "stdout",
     "output_type": "stream",
     "text": [
      "28/72 \n",
      "Stock Point ID: 1647377 || Stock Point Name: OmniHub Ikorodu Lagos - Sitrest\n",
      "Total Quantity before filter: 2,915\n",
      "Total Quantity: 1,988\n",
      "Total Number of Customers before filter: 153\n",
      "Total Number of Customers: 104\n"
     ]
    },
    {
     "name": "stderr",
     "output_type": "stream",
     "text": [
      "INFO: ✓ Created 7 clusters for Stock Point 1647377 using divisive clustering method\n",
      "INFO: ----------------------------------------\n"
     ]
    },
    {
     "name": "stdout",
     "output_type": "stream",
     "text": [
      "Silhouette Score: 0.36\n",
      "Davies-Bouldin Index: 0.84\n",
      "Calinski-Harabasz Score: 89.24\n"
     ]
    },
    {
     "name": "stderr",
     "output_type": "stream",
     "text": [
      "INFO: 4. Route Analysis & Results...\n",
      "INFO: ----------------------------------------\n",
      "INFO: Calculating route...\n",
      "INFO: Starting route calculations for all trips...\n",
      "INFO: All route calculations completed.\n",
      "\n",
      "INFO: Map saved to /home/azureuser/BT/11_Demand_Engine/Algorithm_V1/recommendation_output/selected_trip_map/2025-07-04/1647377.html\n",
      "INFO: Route map created successfully: /home/azureuser/BT/11_Demand_Engine/Algorithm_V1/recommendation_output/selected_trip_map/2025-07-04/1647377.html\n",
      "INFO: Plotting cluster without route calculation...\n",
      "INFO: Map saved to /home/azureuser/BT/11_Demand_Engine/Algorithm_V1/recommendation_output/cluster_map/2025-07-04/1647377.html\n"
     ]
    },
    {
     "name": "stdout",
     "output_type": "stream",
     "text": [
      "Warning: Missing optional columns in popup_cols: ['TotalQuantity']. These will be ignored.\n"
     ]
    },
    {
     "name": "stderr",
     "output_type": "stream",
     "text": [
      "INFO: ================================================================================\n",
      "INFO: ROUTE OPTIMIZATION FOR PUSH SALES RECOMMENDATIONS\n",
      "INFO: StockPoint: OmniHub Ogba/Egbema Ndoni Rivers - Nest-Och, StockPointID: 1647387,\n",
      "INFO: ================================================================================\n",
      "INFO: \n",
      "1. Loading Data...\n",
      "INFO: ----------------------------------------\n",
      "INFO: ✓ Loaded 634 SKU recommendations\n",
      "INFO: ✓ Loaded 133 customer records\n",
      "INFO: ✓ Loaded 1 stock points\n",
      "INFO: ✓ Route optimizer initialized\n",
      "INFO: \n",
      "3. Generating Optimized Routes...\n",
      "INFO: ----------------------------------------\n"
     ]
    },
    {
     "name": "stdout",
     "output_type": "stream",
     "text": [
      "29/72 \n",
      "Stock Point ID: 1647387 || Stock Point Name: OmniHub Ogba/Egbema Ndoni Rivers - Nest-Och\n",
      "Total Quantity before filter: 2,836\n",
      "Total Quantity: 2,528\n",
      "Total Number of Customers before filter: 150\n",
      "Total Number of Customers: 133\n"
     ]
    },
    {
     "name": "stderr",
     "output_type": "stream",
     "text": [
      "INFO: ✓ Created 14 clusters for Stock Point 1647387 using divisive clustering method\n",
      "INFO: ----------------------------------------\n"
     ]
    },
    {
     "name": "stdout",
     "output_type": "stream",
     "text": [
      "Silhouette Score: 0.58\n",
      "Davies-Bouldin Index: 0.59\n",
      "Calinski-Harabasz Score: 2151.58\n"
     ]
    },
    {
     "name": "stderr",
     "output_type": "stream",
     "text": [
      "INFO: 4. Route Analysis & Results...\n",
      "INFO: ----------------------------------------\n",
      "INFO: Calculating route...\n",
      "INFO: Starting route calculations for all trips...\n",
      "INFO: All route calculations completed.\n",
      "\n",
      "INFO: Map saved to /home/azureuser/BT/11_Demand_Engine/Algorithm_V1/recommendation_output/selected_trip_map/2025-07-04/1647387.html\n",
      "INFO: Route map created successfully: /home/azureuser/BT/11_Demand_Engine/Algorithm_V1/recommendation_output/selected_trip_map/2025-07-04/1647387.html\n",
      "INFO: Plotting cluster without route calculation...\n"
     ]
    },
    {
     "name": "stdout",
     "output_type": "stream",
     "text": [
      "Warning: Missing optional columns in popup_cols: ['TotalQuantity']. These will be ignored.\n"
     ]
    },
    {
     "name": "stderr",
     "output_type": "stream",
     "text": [
      "INFO: Map saved to /home/azureuser/BT/11_Demand_Engine/Algorithm_V1/recommendation_output/cluster_map/2025-07-04/1647387.html\n",
      "ERROR: Can not save to disk Cannot save file into a non-existent directory: '/home/azureuser/BT/11_Demand_Engine/Algorithm_V1/recommendation_output/excel_docs/2025-07-04/OmniHub Ogba'\n",
      "INFO: ================================================================================\n",
      "INFO: ROUTE OPTIMIZATION FOR PUSH SALES RECOMMENDATIONS\n",
      "INFO: StockPoint: OmniHub Kosofe Lagos - KOLF , StockPointID: 1647062,\n",
      "INFO: ================================================================================\n",
      "INFO: \n",
      "1. Loading Data...\n",
      "INFO: ----------------------------------------\n",
      "INFO: ✓ Loaded 713 SKU recommendations\n",
      "INFO: ✓ Loaded 143 customer records\n",
      "INFO: ✓ Loaded 1 stock points\n",
      "INFO: ✓ Route optimizer initialized\n",
      "INFO: \n",
      "3. Generating Optimized Routes...\n",
      "INFO: ----------------------------------------\n"
     ]
    },
    {
     "name": "stdout",
     "output_type": "stream",
     "text": [
      "30/72 \n",
      "Stock Point ID: 1647062 || Stock Point Name: OmniHub Kosofe Lagos - KOLF \n",
      "Total Quantity before filter: 4,511\n",
      "Total Quantity: 2,847\n",
      "Total Number of Customers before filter: 226\n",
      "Total Number of Customers: 143\n"
     ]
    },
    {
     "name": "stderr",
     "output_type": "stream",
     "text": [
      "INFO: ✓ Created 11 clusters for Stock Point 1647062 using divisive clustering method\n",
      "INFO: ----------------------------------------\n"
     ]
    },
    {
     "name": "stdout",
     "output_type": "stream",
     "text": [
      "Silhouette Score: 0.43\n",
      "Davies-Bouldin Index: 0.57\n",
      "Calinski-Harabasz Score: 14696686.57\n"
     ]
    },
    {
     "name": "stderr",
     "output_type": "stream",
     "text": [
      "INFO: 4. Route Analysis & Results...\n",
      "INFO: ----------------------------------------\n",
      "INFO: Calculating route...\n",
      "INFO: Starting route calculations for all trips...\n",
      "INFO: All route calculations completed.\n",
      "\n",
      "INFO: Map saved to /home/azureuser/BT/11_Demand_Engine/Algorithm_V1/recommendation_output/selected_trip_map/2025-07-04/1647062.html\n",
      "INFO: Route map created successfully: /home/azureuser/BT/11_Demand_Engine/Algorithm_V1/recommendation_output/selected_trip_map/2025-07-04/1647062.html\n",
      "INFO: Plotting cluster without route calculation...\n"
     ]
    },
    {
     "name": "stdout",
     "output_type": "stream",
     "text": [
      "Warning: Missing optional columns in popup_cols: ['TotalQuantity']. These will be ignored.\n"
     ]
    },
    {
     "name": "stderr",
     "output_type": "stream",
     "text": [
      "INFO: Map saved to /home/azureuser/BT/11_Demand_Engine/Algorithm_V1/recommendation_output/cluster_map/2025-07-04/1647062.html\n",
      "INFO: ================================================================================\n",
      "INFO: ROUTE OPTIMIZATION FOR PUSH SALES RECOMMENDATIONS\n",
      "INFO: StockPoint: OmniHub Ado Odo/Ota Ogun - Sam-Samron, StockPointID: 1647381,\n",
      "INFO: ================================================================================\n",
      "INFO: \n",
      "1. Loading Data...\n",
      "INFO: ----------------------------------------\n",
      "INFO: ================================================================================\n",
      "INFO: ROUTE OPTIMIZATION FOR PUSH SALES RECOMMENDATIONS\n",
      "INFO: StockPoint: OmniHub Alimosho Lagos - Barka Agro Mix, StockPointID: 1647345,\n",
      "INFO: ================================================================================\n",
      "INFO: \n",
      "1. Loading Data...\n",
      "INFO: ----------------------------------------\n",
      "INFO: ✓ Loaded 452 SKU recommendations\n",
      "INFO: ✓ Loaded 111 customer records\n",
      "INFO: ✓ Loaded 1 stock points\n",
      "INFO: ✓ Route optimizer initialized\n",
      "INFO: \n",
      "3. Generating Optimized Routes...\n",
      "INFO: ----------------------------------------\n"
     ]
    },
    {
     "name": "stdout",
     "output_type": "stream",
     "text": [
      "31/72 \n",
      "Stock Point ID: 1647381 || Stock Point Name: OmniHub Ado Odo/Ota Ogun - Sam-Samron\n",
      "Total Quantity before filter: 80\n",
      "Total Quantity: 56\n",
      "Total Number of Customers before filter: 4\n",
      "Total Number of Customers: 3\n",
      "32/72 \n",
      "Stock Point ID: 1647345 || Stock Point Name: OmniHub Alimosho Lagos - Barka Agro Mix\n",
      "Total Quantity before filter: 2,529\n",
      "Total Quantity: 1,691\n",
      "Total Number of Customers before filter: 164\n",
      "Total Number of Customers: 111\n"
     ]
    },
    {
     "name": "stderr",
     "output_type": "stream",
     "text": [
      "INFO: ✓ Created 10 clusters for Stock Point 1647345 using divisive clustering method\n",
      "INFO: ----------------------------------------\n"
     ]
    },
    {
     "name": "stdout",
     "output_type": "stream",
     "text": [
      "Silhouette Score: 0.21\n",
      "Davies-Bouldin Index: 0.87\n",
      "Calinski-Harabasz Score: 12353.71\n"
     ]
    },
    {
     "name": "stderr",
     "output_type": "stream",
     "text": [
      "INFO: 4. Route Analysis & Results...\n",
      "INFO: ----------------------------------------\n",
      "INFO: Calculating route...\n",
      "INFO: Starting route calculations for all trips...\n",
      "INFO: All route calculations completed.\n",
      "\n",
      "INFO: Map saved to /home/azureuser/BT/11_Demand_Engine/Algorithm_V1/recommendation_output/selected_trip_map/2025-07-04/1647345.html\n",
      "INFO: Route map created successfully: /home/azureuser/BT/11_Demand_Engine/Algorithm_V1/recommendation_output/selected_trip_map/2025-07-04/1647345.html\n",
      "INFO: Plotting cluster without route calculation...\n"
     ]
    },
    {
     "name": "stdout",
     "output_type": "stream",
     "text": [
      "Warning: Missing optional columns in popup_cols: ['TotalQuantity']. These will be ignored.\n"
     ]
    },
    {
     "name": "stderr",
     "output_type": "stream",
     "text": [
      "INFO: Map saved to /home/azureuser/BT/11_Demand_Engine/Algorithm_V1/recommendation_output/cluster_map/2025-07-04/1647345.html\n",
      "INFO: ================================================================================\n",
      "INFO: ROUTE OPTIMIZATION FOR PUSH SALES RECOMMENDATIONS\n",
      "INFO: StockPoint: OmniHub Ijebu Ode Ogun - WCG, StockPointID: 1647376,\n",
      "INFO: ================================================================================\n",
      "INFO: \n",
      "1. Loading Data...\n",
      "INFO: ----------------------------------------\n",
      "INFO: ================================================================================\n",
      "INFO: ROUTE OPTIMIZATION FOR PUSH SALES RECOMMENDATIONS\n",
      "INFO: StockPoint: OmniHub Yenagoa Bayelsa - Schist & Scoria, StockPointID: 1647353,\n",
      "INFO: ================================================================================\n",
      "INFO: \n",
      "1. Loading Data...\n",
      "INFO: ----------------------------------------\n",
      "INFO: ✓ Loaded 98 SKU recommendations\n",
      "INFO: ✓ Loaded 56 customer records\n",
      "INFO: ✓ Loaded 1 stock points\n",
      "INFO: ✓ Route optimizer initialized\n",
      "INFO: \n",
      "3. Generating Optimized Routes...\n",
      "INFO: ----------------------------------------\n"
     ]
    },
    {
     "name": "stdout",
     "output_type": "stream",
     "text": [
      "33/72 \n",
      "Stock Point ID: 1647376 || Stock Point Name: OmniHub Ijebu Ode Ogun - WCG\n",
      "Total Quantity before filter: 31\n",
      "Total Quantity: 7\n",
      "Total Number of Customers before filter: 3\n",
      "Total Number of Customers: 1\n",
      "34/72 \n",
      "Stock Point ID: 1647353 || Stock Point Name: OmniHub Yenagoa Bayelsa - Schist & Scoria\n",
      "Total Quantity before filter: 874\n",
      "Total Quantity: 431\n",
      "Total Number of Customers before filter: 90\n",
      "Total Number of Customers: 56\n"
     ]
    },
    {
     "name": "stderr",
     "output_type": "stream",
     "text": [
      "INFO: ✓ Created 4 clusters for Stock Point 1647353 using divisive clustering method\n",
      "INFO: ----------------------------------------\n"
     ]
    },
    {
     "name": "stdout",
     "output_type": "stream",
     "text": [
      "Silhouette Score: 0.39\n",
      "Davies-Bouldin Index: 0.82\n",
      "Calinski-Harabasz Score: 239.64\n"
     ]
    },
    {
     "name": "stderr",
     "output_type": "stream",
     "text": [
      "INFO: 4. Route Analysis & Results...\n",
      "INFO: ----------------------------------------\n",
      "INFO: Calculating route...\n",
      "INFO: Starting route calculations for all trips...\n",
      "INFO: All route calculations completed.\n",
      "\n",
      "INFO: Map saved to /home/azureuser/BT/11_Demand_Engine/Algorithm_V1/recommendation_output/selected_trip_map/2025-07-04/1647353.html\n",
      "INFO: Route map created successfully: /home/azureuser/BT/11_Demand_Engine/Algorithm_V1/recommendation_output/selected_trip_map/2025-07-04/1647353.html\n",
      "INFO: Plotting cluster without route calculation...\n",
      "INFO: Map saved to /home/azureuser/BT/11_Demand_Engine/Algorithm_V1/recommendation_output/cluster_map/2025-07-04/1647353.html\n"
     ]
    },
    {
     "name": "stdout",
     "output_type": "stream",
     "text": [
      "Warning: Missing optional columns in popup_cols: ['TotalQuantity']. These will be ignored.\n"
     ]
    },
    {
     "name": "stderr",
     "output_type": "stream",
     "text": [
      "INFO: ================================================================================\n",
      "INFO: ROUTE OPTIMIZATION FOR PUSH SALES RECOMMENDATIONS\n",
      "INFO: StockPoint: OmniHub Ikorodu Lagos - Pleck, StockPointID: 1647347,\n",
      "INFO: ================================================================================\n",
      "INFO: \n",
      "1. Loading Data...\n",
      "INFO: ----------------------------------------\n",
      "INFO: ✓ Loaded 833 SKU recommendations\n",
      "INFO: ✓ Loaded 186 customer records\n",
      "INFO: ✓ Loaded 1 stock points\n",
      "INFO: ✓ Route optimizer initialized\n",
      "INFO: \n",
      "3. Generating Optimized Routes...\n",
      "INFO: ----------------------------------------\n"
     ]
    },
    {
     "name": "stdout",
     "output_type": "stream",
     "text": [
      "35/72 \n",
      "Stock Point ID: 1647347 || Stock Point Name: OmniHub Ikorodu Lagos - Pleck\n",
      "Total Quantity before filter: 5,040\n",
      "Total Quantity: 3,622\n",
      "Total Number of Customers before filter: 259\n",
      "Total Number of Customers: 186\n"
     ]
    },
    {
     "name": "stderr",
     "output_type": "stream",
     "text": [
      "INFO: ✓ Created 16 clusters for Stock Point 1647347 using divisive clustering method\n",
      "INFO: ----------------------------------------\n"
     ]
    },
    {
     "name": "stdout",
     "output_type": "stream",
     "text": [
      "Silhouette Score: 0.45\n",
      "Davies-Bouldin Index: 0.64\n",
      "Calinski-Harabasz Score: 5027.09\n"
     ]
    },
    {
     "name": "stderr",
     "output_type": "stream",
     "text": [
      "INFO: 4. Route Analysis & Results...\n",
      "INFO: ----------------------------------------\n",
      "INFO: Calculating route...\n",
      "INFO: Starting route calculations for all trips...\n",
      "INFO: All route calculations completed.\n",
      "\n",
      "INFO: Map saved to /home/azureuser/BT/11_Demand_Engine/Algorithm_V1/recommendation_output/selected_trip_map/2025-07-04/1647347.html\n",
      "INFO: Route map created successfully: /home/azureuser/BT/11_Demand_Engine/Algorithm_V1/recommendation_output/selected_trip_map/2025-07-04/1647347.html\n",
      "INFO: Plotting cluster without route calculation...\n"
     ]
    },
    {
     "name": "stdout",
     "output_type": "stream",
     "text": [
      "Warning: Missing optional columns in popup_cols: ['TotalQuantity']. These will be ignored.\n"
     ]
    },
    {
     "name": "stderr",
     "output_type": "stream",
     "text": [
      "INFO: Map saved to /home/azureuser/BT/11_Demand_Engine/Algorithm_V1/recommendation_output/cluster_map/2025-07-04/1647347.html\n",
      "INFO: ================================================================================\n",
      "INFO: ROUTE OPTIMIZATION FOR PUSH SALES RECOMMENDATIONS\n",
      "INFO: StockPoint: OmniHub AMAC 3 Nasarawa - Utmaab Kurudu, StockPointID: 1647341,\n",
      "INFO: ================================================================================\n",
      "INFO: \n",
      "1. Loading Data...\n",
      "INFO: ----------------------------------------\n",
      "INFO: ✓ Loaded 500 SKU recommendations\n",
      "INFO: ✓ Loaded 125 customer records\n",
      "INFO: ✓ Loaded 1 stock points\n",
      "INFO: ✓ Route optimizer initialized\n",
      "INFO: \n",
      "3. Generating Optimized Routes...\n",
      "INFO: ----------------------------------------\n"
     ]
    },
    {
     "name": "stdout",
     "output_type": "stream",
     "text": [
      "36/72 \n",
      "Stock Point ID: 1647341 || Stock Point Name: OmniHub AMAC 3 Nasarawa - Utmaab Kurudu\n",
      "Total Quantity before filter: 3,081\n",
      "Total Quantity: 1,577\n",
      "Total Number of Customers before filter: 258\n",
      "Total Number of Customers: 125\n"
     ]
    },
    {
     "name": "stderr",
     "output_type": "stream",
     "text": [
      "INFO: ✓ Created 11 clusters for Stock Point 1647341 using divisive clustering method\n",
      "INFO: ----------------------------------------\n"
     ]
    },
    {
     "name": "stdout",
     "output_type": "stream",
     "text": [
      "Silhouette Score: 0.52\n",
      "Davies-Bouldin Index: 0.36\n",
      "Calinski-Harabasz Score: 1449.5\n"
     ]
    },
    {
     "name": "stderr",
     "output_type": "stream",
     "text": [
      "INFO: 4. Route Analysis & Results...\n",
      "INFO: ----------------------------------------\n",
      "INFO: Calculating route...\n",
      "INFO: Starting route calculations for all trips...\n",
      "INFO: All route calculations completed.\n",
      "\n",
      "INFO: Map saved to /home/azureuser/BT/11_Demand_Engine/Algorithm_V1/recommendation_output/selected_trip_map/2025-07-04/1647341.html\n",
      "INFO: Route map created successfully: /home/azureuser/BT/11_Demand_Engine/Algorithm_V1/recommendation_output/selected_trip_map/2025-07-04/1647341.html\n",
      "INFO: Plotting cluster without route calculation...\n"
     ]
    },
    {
     "name": "stdout",
     "output_type": "stream",
     "text": [
      "Warning: Missing optional columns in popup_cols: ['TotalQuantity']. These will be ignored.\n"
     ]
    },
    {
     "name": "stderr",
     "output_type": "stream",
     "text": [
      "INFO: Map saved to /home/azureuser/BT/11_Demand_Engine/Algorithm_V1/recommendation_output/cluster_map/2025-07-04/1647341.html\n",
      "INFO: ================================================================================\n",
      "INFO: ROUTE OPTIMIZATION FOR PUSH SALES RECOMMENDATIONS\n",
      "INFO: StockPoint: OmniHub OBI AKPOR Rivers - CHARRYSWIFT, StockPointID: 1647350,\n",
      "INFO: ================================================================================\n",
      "INFO: \n",
      "1. Loading Data...\n",
      "INFO: ----------------------------------------\n",
      "INFO: ✓ Loaded 1904 SKU recommendations\n",
      "INFO: ✓ Loaded 383 customer records\n",
      "INFO: ✓ Loaded 1 stock points\n",
      "INFO: ✓ Route optimizer initialized\n",
      "INFO: \n",
      "3. Generating Optimized Routes...\n",
      "INFO: ----------------------------------------\n"
     ]
    },
    {
     "name": "stdout",
     "output_type": "stream",
     "text": [
      "37/72 \n",
      "Stock Point ID: 1647350 || Stock Point Name: OmniHub OBI AKPOR Rivers - CHARRYSWIFT\n",
      "Total Quantity before filter: 11,071\n",
      "Total Quantity: 8,308\n",
      "Total Number of Customers before filter: 513\n",
      "Total Number of Customers: 383\n"
     ]
    },
    {
     "name": "stderr",
     "output_type": "stream",
     "text": [
      "INFO: ✓ Created 31 clusters for Stock Point 1647350 using divisive clustering method\n",
      "INFO: ----------------------------------------\n"
     ]
    },
    {
     "name": "stdout",
     "output_type": "stream",
     "text": [
      "Silhouette Score: 0.47\n",
      "Davies-Bouldin Index: 0.62\n",
      "Calinski-Harabasz Score: 2922889.3\n"
     ]
    },
    {
     "name": "stderr",
     "output_type": "stream",
     "text": [
      "INFO: 4. Route Analysis & Results...\n",
      "INFO: ----------------------------------------\n",
      "INFO: Calculating route...\n",
      "INFO: Starting route calculations for all trips...\n",
      "INFO: All route calculations completed.\n",
      "\n",
      "INFO: Map saved to /home/azureuser/BT/11_Demand_Engine/Algorithm_V1/recommendation_output/selected_trip_map/2025-07-04/1647350.html\n",
      "INFO: Route map created successfully: /home/azureuser/BT/11_Demand_Engine/Algorithm_V1/recommendation_output/selected_trip_map/2025-07-04/1647350.html\n",
      "INFO: Plotting cluster without route calculation...\n"
     ]
    },
    {
     "name": "stdout",
     "output_type": "stream",
     "text": [
      "Warning: Missing optional columns in popup_cols: ['TotalQuantity']. These will be ignored.\n"
     ]
    },
    {
     "name": "stderr",
     "output_type": "stream",
     "text": [
      "INFO: Map saved to /home/azureuser/BT/11_Demand_Engine/Algorithm_V1/recommendation_output/cluster_map/2025-07-04/1647350.html\n",
      "INFO: ================================================================================\n",
      "INFO: ROUTE OPTIMIZATION FOR PUSH SALES RECOMMENDATIONS\n",
      "INFO: StockPoint: OmniHub Ikorodu Lagos - Mofaz, StockPointID: 1647125,\n",
      "INFO: ================================================================================\n",
      "INFO: \n",
      "1. Loading Data...\n",
      "INFO: ----------------------------------------\n",
      "INFO: ✓ Loaded 1636 SKU recommendations\n",
      "INFO: ✓ Loaded 369 customer records\n",
      "INFO: ✓ Loaded 1 stock points\n",
      "INFO: ✓ Route optimizer initialized\n",
      "INFO: \n",
      "3. Generating Optimized Routes...\n",
      "INFO: ----------------------------------------\n"
     ]
    },
    {
     "name": "stdout",
     "output_type": "stream",
     "text": [
      "38/72 \n",
      "Stock Point ID: 1647125 || Stock Point Name: OmniHub Ikorodu Lagos - Mofaz\n",
      "Total Quantity before filter: 9,885\n",
      "Total Quantity: 6,833\n",
      "Total Number of Customers before filter: 531\n",
      "Total Number of Customers: 369\n"
     ]
    },
    {
     "name": "stderr",
     "output_type": "stream",
     "text": [
      "INFO: ✓ Created 52 clusters for Stock Point 1647125 using divisive clustering method\n",
      "INFO: ----------------------------------------\n"
     ]
    },
    {
     "name": "stdout",
     "output_type": "stream",
     "text": [
      "Silhouette Score: 0.27\n",
      "Davies-Bouldin Index: 0.69\n",
      "Calinski-Harabasz Score: 407.87\n"
     ]
    },
    {
     "name": "stderr",
     "output_type": "stream",
     "text": [
      "INFO: 4. Route Analysis & Results...\n",
      "INFO: ----------------------------------------\n",
      "INFO: Calculating route...\n",
      "INFO: Starting route calculations for all trips...\n",
      "INFO: All route calculations completed.\n",
      "\n",
      "INFO: Map saved to /home/azureuser/BT/11_Demand_Engine/Algorithm_V1/recommendation_output/selected_trip_map/2025-07-04/1647125.html\n",
      "INFO: Route map created successfully: /home/azureuser/BT/11_Demand_Engine/Algorithm_V1/recommendation_output/selected_trip_map/2025-07-04/1647125.html\n",
      "INFO: Plotting cluster without route calculation...\n"
     ]
    },
    {
     "name": "stdout",
     "output_type": "stream",
     "text": [
      "Warning: Missing optional columns in popup_cols: ['TotalQuantity']. These will be ignored.\n"
     ]
    },
    {
     "name": "stderr",
     "output_type": "stream",
     "text": [
      "INFO: Map saved to /home/azureuser/BT/11_Demand_Engine/Algorithm_V1/recommendation_output/cluster_map/2025-07-04/1647125.html\n",
      "INFO: ================================================================================\n",
      "INFO: ROUTE OPTIMIZATION FOR PUSH SALES RECOMMENDATIONS\n",
      "INFO: StockPoint: OmniHub Surulere Lagos - Jimoh Odutola, StockPointID: 1647120,\n",
      "INFO: ================================================================================\n",
      "INFO: \n",
      "1. Loading Data...\n",
      "INFO: ----------------------------------------\n",
      "INFO: ================================================================================\n",
      "INFO: ROUTE OPTIMIZATION FOR PUSH SALES RECOMMENDATIONS\n",
      "INFO: StockPoint: OmniHub Egbeda Oyo - Vizazi, StockPointID: 1647122,\n",
      "INFO: ================================================================================\n",
      "INFO: \n",
      "1. Loading Data...\n",
      "INFO: ----------------------------------------\n",
      "INFO: ✓ Loaded 703 SKU recommendations\n",
      "INFO: ✓ Loaded 218 customer records\n",
      "INFO: ✓ Loaded 1 stock points\n",
      "INFO: ✓ Route optimizer initialized\n",
      "INFO: \n",
      "3. Generating Optimized Routes...\n",
      "INFO: ----------------------------------------\n"
     ]
    },
    {
     "name": "stdout",
     "output_type": "stream",
     "text": [
      "39/72 \n",
      "Stock Point ID: 1647120 || Stock Point Name: OmniHub Surulere Lagos - Jimoh Odutola\n",
      "Total Quantity before filter: 0\n",
      "Total Quantity: 0\n",
      "Total Number of Customers before filter: 0\n",
      "Total Number of Customers: 0\n",
      "40/72 \n",
      "Stock Point ID: 1647122 || Stock Point Name: OmniHub Egbeda Oyo - Vizazi\n",
      "Total Quantity before filter: 3,541\n",
      "Total Quantity: 2,575\n",
      "Total Number of Customers before filter: 316\n",
      "Total Number of Customers: 218\n"
     ]
    },
    {
     "name": "stderr",
     "output_type": "stream",
     "text": [
      "INFO: ✓ Created 22 clusters for Stock Point 1647122 using divisive clustering method\n",
      "INFO: ----------------------------------------\n"
     ]
    },
    {
     "name": "stdout",
     "output_type": "stream",
     "text": [
      "Silhouette Score: 0.53\n",
      "Davies-Bouldin Index: 0.5\n",
      "Calinski-Harabasz Score: 16724.84\n"
     ]
    },
    {
     "name": "stderr",
     "output_type": "stream",
     "text": [
      "INFO: 4. Route Analysis & Results...\n",
      "INFO: ----------------------------------------\n",
      "INFO: Calculating route...\n",
      "INFO: Starting route calculations for all trips...\n",
      "INFO: All route calculations completed.\n",
      "\n",
      "INFO: Map saved to /home/azureuser/BT/11_Demand_Engine/Algorithm_V1/recommendation_output/selected_trip_map/2025-07-04/1647122.html\n",
      "INFO: Route map created successfully: /home/azureuser/BT/11_Demand_Engine/Algorithm_V1/recommendation_output/selected_trip_map/2025-07-04/1647122.html\n",
      "INFO: Plotting cluster without route calculation...\n"
     ]
    },
    {
     "name": "stdout",
     "output_type": "stream",
     "text": [
      "Warning: Missing optional columns in popup_cols: ['TotalQuantity']. These will be ignored.\n"
     ]
    },
    {
     "name": "stderr",
     "output_type": "stream",
     "text": [
      "INFO: Map saved to /home/azureuser/BT/11_Demand_Engine/Algorithm_V1/recommendation_output/cluster_map/2025-07-04/1647122.html\n",
      "INFO: ================================================================================\n",
      "INFO: ROUTE OPTIMIZATION FOR PUSH SALES RECOMMENDATIONS\n",
      "INFO: StockPoint: OmniHub Lagos - OmniHub Eti Osa Lagos - Jimbass, StockPointID: 1647112,\n",
      "INFO: ================================================================================\n",
      "INFO: \n",
      "1. Loading Data...\n",
      "INFO: ----------------------------------------\n",
      "INFO: ================================================================================\n",
      "INFO: ROUTE OPTIMIZATION FOR PUSH SALES RECOMMENDATIONS\n",
      "INFO: StockPoint: OmniHub Apapa Lagos - CAUSEWAY, StockPointID: 1647113,\n",
      "INFO: ================================================================================\n",
      "INFO: \n",
      "1. Loading Data...\n",
      "INFO: ----------------------------------------\n",
      "INFO: ✓ Loaded 3661 SKU recommendations\n",
      "INFO: ✓ Loaded 755 customer records\n",
      "INFO: ✓ Loaded 1 stock points\n",
      "INFO: ✓ Route optimizer initialized\n",
      "INFO: \n",
      "3. Generating Optimized Routes...\n",
      "INFO: ----------------------------------------\n"
     ]
    },
    {
     "name": "stdout",
     "output_type": "stream",
     "text": [
      "41/72 \n",
      "Stock Point ID: 1647112 || Stock Point Name: OmniHub Lagos - OmniHub Eti Osa Lagos - Jimbass\n",
      "Total Quantity before filter: 0\n",
      "Total Quantity: 0\n",
      "Total Number of Customers before filter: 0\n",
      "Total Number of Customers: 0\n",
      "42/72 \n",
      "Stock Point ID: 1647113 || Stock Point Name: OmniHub Apapa Lagos - CAUSEWAY\n",
      "Total Quantity before filter: 19,213\n",
      "Total Quantity: 14,106\n",
      "Total Number of Customers before filter: 1,034\n",
      "Total Number of Customers: 755\n"
     ]
    },
    {
     "name": "stderr",
     "output_type": "stream",
     "text": [
      "INFO: ✓ Created 52 clusters for Stock Point 1647113 using divisive clustering method\n",
      "INFO: ----------------------------------------\n"
     ]
    },
    {
     "name": "stdout",
     "output_type": "stream",
     "text": [
      "Silhouette Score: 0.32\n",
      "Davies-Bouldin Index: 0.85\n",
      "Calinski-Harabasz Score: 6207.7\n"
     ]
    },
    {
     "name": "stderr",
     "output_type": "stream",
     "text": [
      "INFO: 4. Route Analysis & Results...\n",
      "INFO: ----------------------------------------\n",
      "INFO: Calculating route...\n",
      "INFO: Starting route calculations for all trips...\n",
      "INFO: All route calculations completed.\n",
      "\n",
      "INFO: Map saved to /home/azureuser/BT/11_Demand_Engine/Algorithm_V1/recommendation_output/selected_trip_map/2025-07-04/1647113.html\n",
      "INFO: Route map created successfully: /home/azureuser/BT/11_Demand_Engine/Algorithm_V1/recommendation_output/selected_trip_map/2025-07-04/1647113.html\n",
      "INFO: Plotting cluster without route calculation...\n"
     ]
    },
    {
     "name": "stdout",
     "output_type": "stream",
     "text": [
      "Warning: Missing optional columns in popup_cols: ['TotalQuantity']. These will be ignored.\n"
     ]
    },
    {
     "name": "stderr",
     "output_type": "stream",
     "text": [
      "INFO: Map saved to /home/azureuser/BT/11_Demand_Engine/Algorithm_V1/recommendation_output/cluster_map/2025-07-04/1647113.html\n",
      "INFO: ================================================================================\n",
      "INFO: ROUTE OPTIMIZATION FOR PUSH SALES RECOMMENDATIONS\n",
      "INFO: StockPoint: OmniHub Ibadan North Oyo - Eby 99, StockPointID: 1647132,\n",
      "INFO: ================================================================================\n",
      "INFO: \n",
      "1. Loading Data...\n",
      "INFO: ----------------------------------------\n",
      "INFO: ✓ Loaded 516 SKU recommendations\n",
      "INFO: ✓ Loaded 171 customer records\n",
      "INFO: ✓ Loaded 1 stock points\n",
      "INFO: ✓ Route optimizer initialized\n",
      "INFO: \n",
      "3. Generating Optimized Routes...\n",
      "INFO: ----------------------------------------\n"
     ]
    },
    {
     "name": "stdout",
     "output_type": "stream",
     "text": [
      "43/72 \n",
      "Stock Point ID: 1647132 || Stock Point Name: OmniHub Ibadan North Oyo - Eby 99\n",
      "Total Quantity before filter: 2,939\n",
      "Total Quantity: 2,120\n",
      "Total Number of Customers before filter: 234\n",
      "Total Number of Customers: 171\n"
     ]
    },
    {
     "name": "stderr",
     "output_type": "stream",
     "text": [
      "INFO: ✓ Created 17 clusters for Stock Point 1647132 using divisive clustering method\n",
      "INFO: ----------------------------------------\n"
     ]
    },
    {
     "name": "stdout",
     "output_type": "stream",
     "text": [
      "Silhouette Score: 0.49\n",
      "Davies-Bouldin Index: 0.55\n",
      "Calinski-Harabasz Score: 14107.54\n"
     ]
    },
    {
     "name": "stderr",
     "output_type": "stream",
     "text": [
      "INFO: 4. Route Analysis & Results...\n",
      "INFO: ----------------------------------------\n",
      "INFO: Calculating route...\n",
      "INFO: Starting route calculations for all trips...\n",
      "INFO: All route calculations completed.\n",
      "\n",
      "INFO: Map saved to /home/azureuser/BT/11_Demand_Engine/Algorithm_V1/recommendation_output/selected_trip_map/2025-07-04/1647132.html\n",
      "INFO: Route map created successfully: /home/azureuser/BT/11_Demand_Engine/Algorithm_V1/recommendation_output/selected_trip_map/2025-07-04/1647132.html\n",
      "INFO: Plotting cluster without route calculation...\n"
     ]
    },
    {
     "name": "stdout",
     "output_type": "stream",
     "text": [
      "Warning: Missing optional columns in popup_cols: ['TotalQuantity']. These will be ignored.\n"
     ]
    },
    {
     "name": "stderr",
     "output_type": "stream",
     "text": [
      "INFO: Map saved to /home/azureuser/BT/11_Demand_Engine/Algorithm_V1/recommendation_output/cluster_map/2025-07-04/1647132.html\n",
      "INFO: ================================================================================\n",
      "INFO: ROUTE OPTIMIZATION FOR PUSH SALES RECOMMENDATIONS\n",
      "INFO: StockPoint: OmniHub Ibadan South West Oyo - Cemalon, StockPointID: 1647124,\n",
      "INFO: ================================================================================\n",
      "INFO: \n",
      "1. Loading Data...\n",
      "INFO: ----------------------------------------\n",
      "INFO: ✓ Loaded 279 SKU recommendations\n",
      "INFO: ✓ Loaded 94 customer records\n",
      "INFO: ✓ Loaded 1 stock points\n",
      "INFO: ✓ Route optimizer initialized\n",
      "INFO: \n",
      "3. Generating Optimized Routes...\n",
      "INFO: ----------------------------------------\n"
     ]
    },
    {
     "name": "stdout",
     "output_type": "stream",
     "text": [
      "44/72 \n",
      "Stock Point ID: 1647124 || Stock Point Name: OmniHub Ibadan South West Oyo - Cemalon\n",
      "Total Quantity before filter: 1,640\n",
      "Total Quantity: 1,188\n",
      "Total Number of Customers before filter: 136\n",
      "Total Number of Customers: 94\n"
     ]
    },
    {
     "name": "stderr",
     "output_type": "stream",
     "text": [
      "INFO: ✓ Created 15 clusters for Stock Point 1647124 using divisive clustering method\n",
      "INFO: ----------------------------------------\n"
     ]
    },
    {
     "name": "stdout",
     "output_type": "stream",
     "text": [
      "Silhouette Score: 0.67\n",
      "Davies-Bouldin Index: 0.49\n",
      "Calinski-Harabasz Score: 20091.32\n"
     ]
    },
    {
     "name": "stderr",
     "output_type": "stream",
     "text": [
      "INFO: 4. Route Analysis & Results...\n",
      "INFO: ----------------------------------------\n",
      "INFO: Calculating route...\n",
      "INFO: Starting route calculations for all trips...\n",
      "INFO:   Error calculating route for Trip ID 4: 400 ({\"error_code\":171,\"error\":\"No suitable edges near location\",\"status_code\":400,\"status\":\"Bad Request\"})\n",
      "INFO: All route calculations completed.\n",
      "\n"
     ]
    },
    {
     "name": "stdout",
     "output_type": "stream",
     "text": [
      "Skipping plotting for Trip ID 4 due to error: 400 ({\"error_code\":171,\"error\":\"No suitable edges near location\",\"status_code\":400,\"status\":\"Bad Request\"})\n"
     ]
    },
    {
     "name": "stderr",
     "output_type": "stream",
     "text": [
      "INFO: Map saved to /home/azureuser/BT/11_Demand_Engine/Algorithm_V1/recommendation_output/selected_trip_map/2025-07-04/1647124.html\n",
      "INFO: Route map created successfully: /home/azureuser/BT/11_Demand_Engine/Algorithm_V1/recommendation_output/selected_trip_map/2025-07-04/1647124.html\n",
      "INFO: Plotting cluster without route calculation...\n"
     ]
    },
    {
     "name": "stdout",
     "output_type": "stream",
     "text": [
      "Warning: Missing optional columns in popup_cols: ['TotalQuantity']. These will be ignored.\n"
     ]
    },
    {
     "name": "stderr",
     "output_type": "stream",
     "text": [
      "INFO: Map saved to /home/azureuser/BT/11_Demand_Engine/Algorithm_V1/recommendation_output/cluster_map/2025-07-04/1647124.html\n",
      "INFO: ================================================================================\n",
      "INFO: ROUTE OPTIMIZATION FOR PUSH SALES RECOMMENDATIONS\n",
      "INFO: StockPoint: OmniHub Owerri Municipal Imo - Bonaventure , StockPointID: 1647380,\n",
      "INFO: ================================================================================\n",
      "INFO: \n",
      "1. Loading Data...\n",
      "INFO: ----------------------------------------\n",
      "INFO: ✓ Loaded 22 SKU recommendations\n",
      "INFO: ✓ Loaded 8 customer records\n",
      "INFO: ✓ Loaded 1 stock points\n",
      "INFO: ✓ Route optimizer initialized\n",
      "INFO: \n",
      "3. Generating Optimized Routes...\n",
      "INFO: ----------------------------------------\n",
      "INFO: ✓ Created 1 clusters for Stock Point 1647380 using divisive clustering method\n",
      "INFO: ----------------------------------------\n",
      "INFO: 4. Route Analysis & Results...\n",
      "INFO: ----------------------------------------\n",
      "INFO: Calculating route...\n"
     ]
    },
    {
     "name": "stdout",
     "output_type": "stream",
     "text": [
      "45/72 \n",
      "Stock Point ID: 1647380 || Stock Point Name: OmniHub Owerri Municipal Imo - Bonaventure \n",
      "Total Quantity before filter: 172\n",
      "Total Quantity: 103\n",
      "Total Number of Customers before filter: 17\n",
      "Total Number of Customers: 8\n"
     ]
    },
    {
     "name": "stderr",
     "output_type": "stream",
     "text": [
      "INFO: Starting route calculations for all trips...\n",
      "INFO: All route calculations completed.\n",
      "\n",
      "INFO: Map saved to /home/azureuser/BT/11_Demand_Engine/Algorithm_V1/recommendation_output/selected_trip_map/2025-07-04/1647380.html\n",
      "INFO: Route map created successfully: /home/azureuser/BT/11_Demand_Engine/Algorithm_V1/recommendation_output/selected_trip_map/2025-07-04/1647380.html\n",
      "INFO: Plotting cluster without route calculation...\n",
      "INFO: Map saved to /home/azureuser/BT/11_Demand_Engine/Algorithm_V1/recommendation_output/cluster_map/2025-07-04/1647380.html\n",
      "INFO: ================================================================================\n",
      "INFO: ROUTE OPTIMIZATION FOR PUSH SALES RECOMMENDATIONS\n",
      "INFO: StockPoint: OmniHub Sagamu Ogun - Ajaka, StockPointID: 1647126,\n",
      "INFO: ================================================================================\n",
      "INFO: \n",
      "1. Loading Data...\n",
      "INFO: ----------------------------------------\n"
     ]
    },
    {
     "name": "stdout",
     "output_type": "stream",
     "text": [
      "Warning: Missing optional columns in popup_cols: ['TotalQuantity']. These will be ignored.\n",
      "46/72 \n",
      "Stock Point ID: 1647126 || Stock Point Name: OmniHub Sagamu Ogun - Ajaka\n",
      "Total Quantity before filter: 45\n",
      "Total Quantity: 25\n",
      "Total Number of Customers before filter: 2\n",
      "Total Number of Customers: 1\n",
      "47/72 \n",
      "Stock Point ID: 1647109 || Stock Point Name: OmniHub Oluyole Oyo - Techcomserve\n"
     ]
    },
    {
     "name": "stderr",
     "output_type": "stream",
     "text": [
      "INFO: ================================================================================\n",
      "INFO: ROUTE OPTIMIZATION FOR PUSH SALES RECOMMENDATIONS\n",
      "INFO: StockPoint: OmniHub Oluyole Oyo - Techcomserve, StockPointID: 1647109,\n",
      "INFO: ================================================================================\n",
      "INFO: \n",
      "1. Loading Data...\n",
      "INFO: ----------------------------------------\n",
      "INFO: ✓ Loaded 28 SKU recommendations\n",
      "INFO: ✓ Loaded 13 customer records\n",
      "INFO: ✓ Loaded 1 stock points\n",
      "INFO: ✓ Route optimizer initialized\n",
      "INFO: \n",
      "3. Generating Optimized Routes...\n",
      "INFO: ----------------------------------------\n",
      "INFO: ✓ Created 1 clusters for Stock Point 1647109 using divisive clustering method\n",
      "INFO: ----------------------------------------\n",
      "INFO: 4. Route Analysis & Results...\n",
      "INFO: ----------------------------------------\n",
      "INFO: Calculating route...\n",
      "INFO: Starting route calculations for all trips...\n"
     ]
    },
    {
     "name": "stdout",
     "output_type": "stream",
     "text": [
      "Total Quantity before filter: 172\n",
      "Total Quantity: 102\n",
      "Total Number of Customers before filter: 20\n",
      "Total Number of Customers: 13\n"
     ]
    },
    {
     "name": "stderr",
     "output_type": "stream",
     "text": [
      "INFO: All route calculations completed.\n",
      "\n",
      "INFO: Map saved to /home/azureuser/BT/11_Demand_Engine/Algorithm_V1/recommendation_output/selected_trip_map/2025-07-04/1647109.html\n",
      "INFO: Route map created successfully: /home/azureuser/BT/11_Demand_Engine/Algorithm_V1/recommendation_output/selected_trip_map/2025-07-04/1647109.html\n",
      "INFO: Plotting cluster without route calculation...\n",
      "INFO: Map saved to /home/azureuser/BT/11_Demand_Engine/Algorithm_V1/recommendation_output/cluster_map/2025-07-04/1647109.html\n",
      "INFO: ================================================================================\n",
      "INFO: ROUTE OPTIMIZATION FOR PUSH SALES RECOMMENDATIONS\n",
      "INFO: StockPoint: OmniHub Alimosho Lagos - Demadek, StockPointID: 1647371,\n",
      "INFO: ================================================================================\n",
      "INFO: \n",
      "1. Loading Data...\n",
      "INFO: ----------------------------------------\n"
     ]
    },
    {
     "name": "stdout",
     "output_type": "stream",
     "text": [
      "Warning: Missing optional columns in popup_cols: ['TotalQuantity']. These will be ignored.\n",
      "48/72 \n",
      "Stock Point ID: 1647371 || Stock Point Name: OmniHub Alimosho Lagos - Demadek\n",
      "Total Quantity before filter: 850\n",
      "Total Quantity: 622\n",
      "Total Number of Customers before filter: 64\n",
      "Total Number of Customers: 47\n"
     ]
    },
    {
     "name": "stderr",
     "output_type": "stream",
     "text": [
      "INFO: ✓ Loaded 170 SKU recommendations\n",
      "INFO: ✓ Loaded 47 customer records\n",
      "INFO: ✓ Loaded 1 stock points\n",
      "INFO: ✓ Route optimizer initialized\n",
      "INFO: \n",
      "3. Generating Optimized Routes...\n",
      "INFO: ----------------------------------------\n",
      "INFO: ✓ Created 6 clusters for Stock Point 1647371 using divisive clustering method\n",
      "INFO: ----------------------------------------\n"
     ]
    },
    {
     "name": "stdout",
     "output_type": "stream",
     "text": [
      "Silhouette Score: 0.29\n",
      "Davies-Bouldin Index: 0.54\n",
      "Calinski-Harabasz Score: 34403.32\n"
     ]
    },
    {
     "name": "stderr",
     "output_type": "stream",
     "text": [
      "INFO: 4. Route Analysis & Results...\n",
      "INFO: ----------------------------------------\n",
      "INFO: Calculating route...\n",
      "INFO: Starting route calculations for all trips...\n",
      "INFO: All route calculations completed.\n",
      "\n",
      "INFO: Map saved to /home/azureuser/BT/11_Demand_Engine/Algorithm_V1/recommendation_output/selected_trip_map/2025-07-04/1647371.html\n",
      "INFO: Route map created successfully: /home/azureuser/BT/11_Demand_Engine/Algorithm_V1/recommendation_output/selected_trip_map/2025-07-04/1647371.html\n",
      "INFO: Plotting cluster without route calculation...\n",
      "INFO: Map saved to /home/azureuser/BT/11_Demand_Engine/Algorithm_V1/recommendation_output/cluster_map/2025-07-04/1647371.html\n"
     ]
    },
    {
     "name": "stdout",
     "output_type": "stream",
     "text": [
      "Warning: Missing optional columns in popup_cols: ['TotalQuantity']. These will be ignored.\n"
     ]
    },
    {
     "name": "stderr",
     "output_type": "stream",
     "text": [
      "INFO: ================================================================================\n",
      "INFO: ROUTE OPTIMIZATION FOR PUSH SALES RECOMMENDATIONS\n",
      "INFO: StockPoint: OmniHub Alimosho Lagos - Pafeak, StockPointID: 1647131,\n",
      "INFO: ================================================================================\n",
      "INFO: \n",
      "1. Loading Data...\n",
      "INFO: ----------------------------------------\n",
      "INFO: ✓ Loaded 410 SKU recommendations\n",
      "INFO: ✓ Loaded 103 customer records\n",
      "INFO: ✓ Loaded 1 stock points\n",
      "INFO: ✓ Route optimizer initialized\n",
      "INFO: \n",
      "3. Generating Optimized Routes...\n",
      "INFO: ----------------------------------------\n"
     ]
    },
    {
     "name": "stdout",
     "output_type": "stream",
     "text": [
      "49/72 \n",
      "Stock Point ID: 1647131 || Stock Point Name: OmniHub Alimosho Lagos - Pafeak\n",
      "Total Quantity before filter: 2,401\n",
      "Total Quantity: 1,549\n",
      "Total Number of Customers before filter: 153\n",
      "Total Number of Customers: 103\n"
     ]
    },
    {
     "name": "stderr",
     "output_type": "stream",
     "text": [
      "INFO: ✓ Created 8 clusters for Stock Point 1647131 using divisive clustering method\n",
      "INFO: ----------------------------------------\n"
     ]
    },
    {
     "name": "stdout",
     "output_type": "stream",
     "text": [
      "Silhouette Score: 0.26\n",
      "Davies-Bouldin Index: 0.71\n",
      "Calinski-Harabasz Score: 23586.12\n"
     ]
    },
    {
     "name": "stderr",
     "output_type": "stream",
     "text": [
      "INFO: 4. Route Analysis & Results...\n",
      "INFO: ----------------------------------------\n",
      "INFO: Calculating route...\n",
      "INFO: Starting route calculations for all trips...\n",
      "INFO: All route calculations completed.\n",
      "\n",
      "INFO: Map saved to /home/azureuser/BT/11_Demand_Engine/Algorithm_V1/recommendation_output/selected_trip_map/2025-07-04/1647131.html\n",
      "INFO: Route map created successfully: /home/azureuser/BT/11_Demand_Engine/Algorithm_V1/recommendation_output/selected_trip_map/2025-07-04/1647131.html\n",
      "INFO: Plotting cluster without route calculation...\n"
     ]
    },
    {
     "name": "stdout",
     "output_type": "stream",
     "text": [
      "Warning: Missing optional columns in popup_cols: ['TotalQuantity']. These will be ignored.\n"
     ]
    },
    {
     "name": "stderr",
     "output_type": "stream",
     "text": [
      "INFO: Map saved to /home/azureuser/BT/11_Demand_Engine/Algorithm_V1/recommendation_output/cluster_map/2025-07-04/1647131.html\n",
      "INFO: ================================================================================\n",
      "INFO: ROUTE OPTIMIZATION FOR PUSH SALES RECOMMENDATIONS\n",
      "INFO: StockPoint: OmniHub Ado Odo/Ota Ogun - Hardej, StockPointID: 1647110,\n",
      "INFO: ================================================================================\n",
      "INFO: \n",
      "1. Loading Data...\n",
      "INFO: ----------------------------------------\n",
      "INFO: ✓ Loaded 258 SKU recommendations\n",
      "INFO: ✓ Loaded 61 customer records\n",
      "INFO: ✓ Loaded 1 stock points\n",
      "INFO: ✓ Route optimizer initialized\n",
      "INFO: \n",
      "3. Generating Optimized Routes...\n",
      "INFO: ----------------------------------------\n"
     ]
    },
    {
     "name": "stdout",
     "output_type": "stream",
     "text": [
      "50/72 \n",
      "Stock Point ID: 1647110 || Stock Point Name: OmniHub Ado Odo/Ota Ogun - Hardej\n",
      "Total Quantity before filter: 1,643\n",
      "Total Quantity: 1,027\n",
      "Total Number of Customers before filter: 104\n",
      "Total Number of Customers: 61\n"
     ]
    },
    {
     "name": "stderr",
     "output_type": "stream",
     "text": [
      "INFO: ✓ Created 10 clusters for Stock Point 1647110 using divisive clustering method\n",
      "INFO: ----------------------------------------\n"
     ]
    },
    {
     "name": "stdout",
     "output_type": "stream",
     "text": [
      "Silhouette Score: 0.46\n",
      "Davies-Bouldin Index: 0.34\n",
      "Calinski-Harabasz Score: 5944.73\n"
     ]
    },
    {
     "name": "stderr",
     "output_type": "stream",
     "text": [
      "INFO: 4. Route Analysis & Results...\n",
      "INFO: ----------------------------------------\n",
      "INFO: Calculating route...\n",
      "INFO: Starting route calculations for all trips...\n",
      "INFO: All route calculations completed.\n",
      "\n",
      "INFO: Map saved to /home/azureuser/BT/11_Demand_Engine/Algorithm_V1/recommendation_output/selected_trip_map/2025-07-04/1647110.html\n",
      "INFO: Route map created successfully: /home/azureuser/BT/11_Demand_Engine/Algorithm_V1/recommendation_output/selected_trip_map/2025-07-04/1647110.html\n",
      "INFO: Plotting cluster without route calculation...\n",
      "INFO: Map saved to /home/azureuser/BT/11_Demand_Engine/Algorithm_V1/recommendation_output/cluster_map/2025-07-04/1647110.html\n",
      "ERROR: Can not save to disk Cannot save file into a non-existent directory: '/home/azureuser/BT/11_Demand_Engine/Algorithm_V1/recommendation_output/excel_docs/2025-07-04/OmniHub Ado Odo'\n",
      "INFO: ================================================================================\n",
      "INFO: ROUTE OPTIMIZATION FOR PUSH SALES RECOMMENDATIONS\n",
      "INFO: StockPoint: OmniHub Shomolu Lagos - Autograph, StockPointID: 1647137,\n",
      "INFO: ================================================================================\n",
      "INFO: \n",
      "1. Loading Data...\n",
      "INFO: ----------------------------------------\n"
     ]
    },
    {
     "name": "stdout",
     "output_type": "stream",
     "text": [
      "Warning: Missing optional columns in popup_cols: ['TotalQuantity']. These will be ignored.\n",
      "51/72 \n",
      "Stock Point ID: 1647137 || Stock Point Name: OmniHub Shomolu Lagos - Autograph\n"
     ]
    },
    {
     "name": "stderr",
     "output_type": "stream",
     "text": [
      "INFO: ✓ Loaded 1402 SKU recommendations\n",
      "INFO: ✓ Loaded 283 customer records\n",
      "INFO: ✓ Loaded 1 stock points\n",
      "INFO: ✓ Route optimizer initialized\n",
      "INFO: \n",
      "3. Generating Optimized Routes...\n",
      "INFO: ----------------------------------------\n"
     ]
    },
    {
     "name": "stdout",
     "output_type": "stream",
     "text": [
      "Total Quantity before filter: 8,165\n",
      "Total Quantity: 5,253\n",
      "Total Number of Customers before filter: 446\n",
      "Total Number of Customers: 283\n"
     ]
    },
    {
     "name": "stderr",
     "output_type": "stream",
     "text": [
      "INFO: ✓ Created 23 clusters for Stock Point 1647137 using divisive clustering method\n",
      "INFO: ----------------------------------------\n"
     ]
    },
    {
     "name": "stdout",
     "output_type": "stream",
     "text": [
      "Silhouette Score: 0.29\n",
      "Davies-Bouldin Index: 0.82\n",
      "Calinski-Harabasz Score: 46352.78\n"
     ]
    },
    {
     "name": "stderr",
     "output_type": "stream",
     "text": [
      "INFO: 4. Route Analysis & Results...\n",
      "INFO: ----------------------------------------\n",
      "INFO: Calculating route...\n",
      "INFO: Starting route calculations for all trips...\n",
      "INFO: All route calculations completed.\n",
      "\n",
      "INFO: Map saved to /home/azureuser/BT/11_Demand_Engine/Algorithm_V1/recommendation_output/selected_trip_map/2025-07-04/1647137.html\n",
      "INFO: Route map created successfully: /home/azureuser/BT/11_Demand_Engine/Algorithm_V1/recommendation_output/selected_trip_map/2025-07-04/1647137.html\n",
      "INFO: Plotting cluster without route calculation...\n"
     ]
    },
    {
     "name": "stdout",
     "output_type": "stream",
     "text": [
      "Warning: Missing optional columns in popup_cols: ['TotalQuantity']. These will be ignored.\n"
     ]
    },
    {
     "name": "stderr",
     "output_type": "stream",
     "text": [
      "INFO: Map saved to /home/azureuser/BT/11_Demand_Engine/Algorithm_V1/recommendation_output/cluster_map/2025-07-04/1647137.html\n",
      "INFO: ================================================================================\n",
      "INFO: ROUTE OPTIMIZATION FOR PUSH SALES RECOMMENDATIONS\n",
      "INFO: StockPoint: OmniHub Ikeja Lagos - Barka-Agro Food Ogba, StockPointID: 1647106,\n",
      "INFO: ================================================================================\n",
      "INFO: \n",
      "1. Loading Data...\n",
      "INFO: ----------------------------------------\n",
      "INFO: ✓ Loaded 461 SKU recommendations\n",
      "INFO: ✓ Loaded 108 customer records\n",
      "INFO: ✓ Loaded 1 stock points\n",
      "INFO: ✓ Route optimizer initialized\n",
      "INFO: \n",
      "3. Generating Optimized Routes...\n",
      "INFO: ----------------------------------------\n"
     ]
    },
    {
     "name": "stdout",
     "output_type": "stream",
     "text": [
      "52/72 \n",
      "Stock Point ID: 1647106 || Stock Point Name: OmniHub Ikeja Lagos - Barka-Agro Food Ogba\n",
      "Total Quantity before filter: 3,202\n",
      "Total Quantity: 1,814\n",
      "Total Number of Customers before filter: 194\n",
      "Total Number of Customers: 108\n"
     ]
    },
    {
     "name": "stderr",
     "output_type": "stream",
     "text": [
      "INFO: ✓ Created 10 clusters for Stock Point 1647106 using divisive clustering method\n",
      "INFO: ----------------------------------------\n"
     ]
    },
    {
     "name": "stdout",
     "output_type": "stream",
     "text": [
      "Silhouette Score: 0.32\n",
      "Davies-Bouldin Index: 0.74\n",
      "Calinski-Harabasz Score: 6050.04\n"
     ]
    },
    {
     "name": "stderr",
     "output_type": "stream",
     "text": [
      "INFO: 4. Route Analysis & Results...\n",
      "INFO: ----------------------------------------\n",
      "INFO: Calculating route...\n",
      "INFO: Starting route calculations for all trips...\n",
      "INFO: All route calculations completed.\n",
      "\n",
      "INFO: Map saved to /home/azureuser/BT/11_Demand_Engine/Algorithm_V1/recommendation_output/selected_trip_map/2025-07-04/1647106.html\n",
      "INFO: Route map created successfully: /home/azureuser/BT/11_Demand_Engine/Algorithm_V1/recommendation_output/selected_trip_map/2025-07-04/1647106.html\n",
      "INFO: Plotting cluster without route calculation...\n"
     ]
    },
    {
     "name": "stdout",
     "output_type": "stream",
     "text": [
      "Warning: Missing optional columns in popup_cols: ['TotalQuantity']. These will be ignored.\n"
     ]
    },
    {
     "name": "stderr",
     "output_type": "stream",
     "text": [
      "INFO: Map saved to /home/azureuser/BT/11_Demand_Engine/Algorithm_V1/recommendation_output/cluster_map/2025-07-04/1647106.html\n",
      "INFO: ================================================================================\n",
      "INFO: ROUTE OPTIMIZATION FOR PUSH SALES RECOMMENDATIONS\n",
      "INFO: StockPoint: OmniHub Lagos - OmniHub Amuwo Odofin Lagos - EMPRESS KOT., StockPointID: 1647115,\n",
      "INFO: ================================================================================\n",
      "INFO: \n",
      "1. Loading Data...\n",
      "INFO: ----------------------------------------\n",
      "INFO: ================================================================================\n",
      "INFO: ROUTE OPTIMIZATION FOR PUSH SALES RECOMMENDATIONS\n",
      "INFO: StockPoint: OmniHub Obafemi Owode Ogun - Favoured Goodness, StockPointID: 1647424,\n",
      "INFO: ================================================================================\n",
      "INFO: \n",
      "1. Loading Data...\n",
      "INFO: ----------------------------------------\n",
      "INFO: ================================================================================\n",
      "INFO: ROUTE OPTIMIZATION FOR PUSH SALES RECOMMENDATIONS\n",
      "INFO: StockPoint: OmniHub Obio Akpor Rivers - FHS, StockPointID: 1647127,\n",
      "INFO: ================================================================================\n",
      "INFO: \n",
      "1. Loading Data...\n",
      "INFO: ----------------------------------------\n"
     ]
    },
    {
     "name": "stdout",
     "output_type": "stream",
     "text": [
      "53/72 \n",
      "Stock Point ID: 1647115 || Stock Point Name: OmniHub Lagos - OmniHub Amuwo Odofin Lagos - EMPRESS KOT.\n",
      "Total Quantity before filter: 0\n",
      "Total Quantity: 0\n",
      "Total Number of Customers before filter: 0\n",
      "Total Number of Customers: 0\n",
      "54/72 \n",
      "Stock Point ID: 1647424 || Stock Point Name: OmniHub Obafemi Owode Ogun - Favoured Goodness\n",
      "Total Quantity before filter: 0\n",
      "Total Quantity: 0\n",
      "Total Number of Customers before filter: 0\n",
      "Total Number of Customers: 0\n",
      "55/72 \n",
      "Stock Point ID: 1647127 || Stock Point Name: OmniHub Obio Akpor Rivers - FHS\n"
     ]
    },
    {
     "name": "stderr",
     "output_type": "stream",
     "text": [
      "INFO: ✓ Loaded 1553 SKU recommendations\n",
      "INFO: ✓ Loaded 312 customer records\n",
      "INFO: ✓ Loaded 1 stock points\n",
      "INFO: ✓ Route optimizer initialized\n",
      "INFO: \n",
      "3. Generating Optimized Routes...\n",
      "INFO: ----------------------------------------\n"
     ]
    },
    {
     "name": "stdout",
     "output_type": "stream",
     "text": [
      "Total Quantity before filter: 9,376\n",
      "Total Quantity: 6,933\n",
      "Total Number of Customers before filter: 422\n",
      "Total Number of Customers: 312\n"
     ]
    },
    {
     "name": "stderr",
     "output_type": "stream",
     "text": [
      "INFO: ✓ Created 23 clusters for Stock Point 1647127 using divisive clustering method\n",
      "INFO: ----------------------------------------\n"
     ]
    },
    {
     "name": "stdout",
     "output_type": "stream",
     "text": [
      "Silhouette Score: 0.34\n",
      "Davies-Bouldin Index: 0.9\n",
      "Calinski-Harabasz Score: 18435.97\n"
     ]
    },
    {
     "name": "stderr",
     "output_type": "stream",
     "text": [
      "INFO: 4. Route Analysis & Results...\n",
      "INFO: ----------------------------------------\n",
      "INFO: Calculating route...\n",
      "INFO: Starting route calculations for all trips...\n",
      "INFO: All route calculations completed.\n",
      "\n",
      "INFO: Map saved to /home/azureuser/BT/11_Demand_Engine/Algorithm_V1/recommendation_output/selected_trip_map/2025-07-04/1647127.html\n",
      "INFO: Route map created successfully: /home/azureuser/BT/11_Demand_Engine/Algorithm_V1/recommendation_output/selected_trip_map/2025-07-04/1647127.html\n",
      "INFO: Plotting cluster without route calculation...\n"
     ]
    },
    {
     "name": "stdout",
     "output_type": "stream",
     "text": [
      "Warning: Missing optional columns in popup_cols: ['TotalQuantity']. These will be ignored.\n"
     ]
    },
    {
     "name": "stderr",
     "output_type": "stream",
     "text": [
      "INFO: Map saved to /home/azureuser/BT/11_Demand_Engine/Algorithm_V1/recommendation_output/cluster_map/2025-07-04/1647127.html\n",
      "INFO: ================================================================================\n",
      "INFO: ROUTE OPTIMIZATION FOR PUSH SALES RECOMMENDATIONS\n",
      "INFO: StockPoint: OmniHub Abuja - OmniHub Bwari Abuja - NETLINK, StockPointID: 1647130,\n",
      "INFO: ================================================================================\n",
      "INFO: \n",
      "1. Loading Data...\n",
      "INFO: ----------------------------------------\n",
      "INFO: ✓ Loaded 545 SKU recommendations\n",
      "INFO: ✓ Loaded 129 customer records\n",
      "INFO: ✓ Loaded 1 stock points\n",
      "INFO: ✓ Route optimizer initialized\n",
      "INFO: \n",
      "3. Generating Optimized Routes...\n",
      "INFO: ----------------------------------------\n"
     ]
    },
    {
     "name": "stdout",
     "output_type": "stream",
     "text": [
      "56/72 \n",
      "Stock Point ID: 1647130 || Stock Point Name: OmniHub Abuja - OmniHub Bwari Abuja - NETLINK\n",
      "Total Quantity before filter: 4,110\n",
      "Total Quantity: 1,909\n",
      "Total Number of Customers before filter: 293\n",
      "Total Number of Customers: 129\n"
     ]
    },
    {
     "name": "stderr",
     "output_type": "stream",
     "text": [
      "INFO: ✓ Created 10 clusters for Stock Point 1647130 using divisive clustering method\n",
      "INFO: ----------------------------------------\n"
     ]
    },
    {
     "name": "stdout",
     "output_type": "stream",
     "text": [
      "Silhouette Score: 0.59\n",
      "Davies-Bouldin Index: 0.59\n",
      "Calinski-Harabasz Score: 2071.87\n"
     ]
    },
    {
     "name": "stderr",
     "output_type": "stream",
     "text": [
      "INFO: 4. Route Analysis & Results...\n",
      "INFO: ----------------------------------------\n",
      "INFO: Calculating route...\n",
      "INFO: Starting route calculations for all trips...\n",
      "INFO: All route calculations completed.\n",
      "\n",
      "INFO: Map saved to /home/azureuser/BT/11_Demand_Engine/Algorithm_V1/recommendation_output/selected_trip_map/2025-07-04/1647130.html\n",
      "INFO: Route map created successfully: /home/azureuser/BT/11_Demand_Engine/Algorithm_V1/recommendation_output/selected_trip_map/2025-07-04/1647130.html\n",
      "INFO: Plotting cluster without route calculation...\n"
     ]
    },
    {
     "name": "stdout",
     "output_type": "stream",
     "text": [
      "Warning: Missing optional columns in popup_cols: ['TotalQuantity']. These will be ignored.\n"
     ]
    },
    {
     "name": "stderr",
     "output_type": "stream",
     "text": [
      "INFO: Map saved to /home/azureuser/BT/11_Demand_Engine/Algorithm_V1/recommendation_output/cluster_map/2025-07-04/1647130.html\n",
      "INFO: ================================================================================\n",
      "INFO: ROUTE OPTIMIZATION FOR PUSH SALES RECOMMENDATIONS\n",
      "INFO: StockPoint: OmniHub Bwari Abuja - BAFAL, StockPointID: 1647111,\n",
      "INFO: ================================================================================\n",
      "INFO: \n",
      "1. Loading Data...\n",
      "INFO: ----------------------------------------\n",
      "INFO: ✓ Loaded 691 SKU recommendations\n",
      "INFO: ✓ Loaded 281 customer records\n",
      "INFO: ✓ Loaded 1 stock points\n",
      "INFO: ✓ Route optimizer initialized\n",
      "INFO: \n",
      "3. Generating Optimized Routes...\n",
      "INFO: ----------------------------------------\n"
     ]
    },
    {
     "name": "stdout",
     "output_type": "stream",
     "text": [
      "57/72 \n",
      "Stock Point ID: 1647111 || Stock Point Name: OmniHub Bwari Abuja - BAFAL\n",
      "Total Quantity before filter: 3,660\n",
      "Total Quantity: 2,085\n",
      "Total Number of Customers before filter: 475\n",
      "Total Number of Customers: 281\n"
     ]
    },
    {
     "name": "stderr",
     "output_type": "stream",
     "text": [
      "INFO: ✓ Created 23 clusters for Stock Point 1647111 using divisive clustering method\n",
      "INFO: ----------------------------------------\n"
     ]
    },
    {
     "name": "stdout",
     "output_type": "stream",
     "text": [
      "Silhouette Score: 0.5\n",
      "Davies-Bouldin Index: 0.62\n",
      "Calinski-Harabasz Score: 1461.74\n"
     ]
    },
    {
     "name": "stderr",
     "output_type": "stream",
     "text": [
      "INFO: 4. Route Analysis & Results...\n",
      "INFO: ----------------------------------------\n",
      "INFO: Calculating route...\n",
      "INFO: Starting route calculations for all trips...\n",
      "INFO: All route calculations completed.\n",
      "\n",
      "INFO: Map saved to /home/azureuser/BT/11_Demand_Engine/Algorithm_V1/recommendation_output/selected_trip_map/2025-07-04/1647111.html\n",
      "INFO: Route map created successfully: /home/azureuser/BT/11_Demand_Engine/Algorithm_V1/recommendation_output/selected_trip_map/2025-07-04/1647111.html\n",
      "INFO: Plotting cluster without route calculation...\n"
     ]
    },
    {
     "name": "stdout",
     "output_type": "stream",
     "text": [
      "Warning: Missing optional columns in popup_cols: ['TotalQuantity']. These will be ignored.\n"
     ]
    },
    {
     "name": "stderr",
     "output_type": "stream",
     "text": [
      "INFO: Map saved to /home/azureuser/BT/11_Demand_Engine/Algorithm_V1/recommendation_output/cluster_map/2025-07-04/1647111.html\n",
      "INFO: ================================================================================\n",
      "INFO: ROUTE OPTIMIZATION FOR PUSH SALES RECOMMENDATIONS\n",
      "INFO: StockPoint: OmniHub Port Harcourt Rivers - IFO, StockPointID: 1647382,\n",
      "INFO: ================================================================================\n",
      "INFO: \n",
      "1. Loading Data...\n",
      "INFO: ----------------------------------------\n",
      "INFO: ✓ Loaded 664 SKU recommendations\n",
      "INFO: ✓ Loaded 135 customer records\n",
      "INFO: ✓ Loaded 1 stock points\n",
      "INFO: ✓ Route optimizer initialized\n",
      "INFO: \n",
      "3. Generating Optimized Routes...\n",
      "INFO: ----------------------------------------\n"
     ]
    },
    {
     "name": "stdout",
     "output_type": "stream",
     "text": [
      "58/72 \n",
      "Stock Point ID: 1647382 || Stock Point Name: OmniHub Port Harcourt Rivers - IFO\n",
      "Total Quantity before filter: 3,811\n",
      "Total Quantity: 2,986\n",
      "Total Number of Customers before filter: 174\n",
      "Total Number of Customers: 135\n"
     ]
    },
    {
     "name": "stderr",
     "output_type": "stream",
     "text": [
      "INFO: ✓ Created 12 clusters for Stock Point 1647382 using divisive clustering method\n",
      "INFO: ----------------------------------------\n"
     ]
    },
    {
     "name": "stdout",
     "output_type": "stream",
     "text": [
      "Silhouette Score: 0.49\n",
      "Davies-Bouldin Index: 0.79\n",
      "Calinski-Harabasz Score: 5898.44\n"
     ]
    },
    {
     "name": "stderr",
     "output_type": "stream",
     "text": [
      "INFO: 4. Route Analysis & Results...\n",
      "INFO: ----------------------------------------\n",
      "INFO: Calculating route...\n",
      "INFO: Starting route calculations for all trips...\n",
      "INFO: All route calculations completed.\n",
      "\n",
      "INFO: Map saved to /home/azureuser/BT/11_Demand_Engine/Algorithm_V1/recommendation_output/selected_trip_map/2025-07-04/1647382.html\n",
      "INFO: Route map created successfully: /home/azureuser/BT/11_Demand_Engine/Algorithm_V1/recommendation_output/selected_trip_map/2025-07-04/1647382.html\n",
      "INFO: Plotting cluster without route calculation...\n"
     ]
    },
    {
     "name": "stdout",
     "output_type": "stream",
     "text": [
      "Warning: Missing optional columns in popup_cols: ['TotalQuantity']. These will be ignored.\n"
     ]
    },
    {
     "name": "stderr",
     "output_type": "stream",
     "text": [
      "INFO: Map saved to /home/azureuser/BT/11_Demand_Engine/Algorithm_V1/recommendation_output/cluster_map/2025-07-04/1647382.html\n",
      "INFO: ================================================================================\n",
      "INFO: ROUTE OPTIMIZATION FOR PUSH SALES RECOMMENDATIONS\n",
      "INFO: StockPoint: OmniHub AMAC 2 Abuja - PearlCity Maraba, StockPointID: 1647108,\n",
      "INFO: ================================================================================\n",
      "INFO: \n",
      "1. Loading Data...\n",
      "INFO: ----------------------------------------\n",
      "INFO: ✓ Loaded 1302 SKU recommendations\n",
      "INFO: ✓ Loaded 326 customer records\n",
      "INFO: ✓ Loaded 1 stock points\n",
      "INFO: ✓ Route optimizer initialized\n",
      "INFO: \n",
      "3. Generating Optimized Routes...\n",
      "INFO: ----------------------------------------\n"
     ]
    },
    {
     "name": "stdout",
     "output_type": "stream",
     "text": [
      "59/72 \n",
      "Stock Point ID: 1647108 || Stock Point Name: OmniHub AMAC 2 Abuja - PearlCity Maraba\n",
      "Total Quantity before filter: 7,100\n",
      "Total Quantity: 4,109\n",
      "Total Number of Customers before filter: 550\n",
      "Total Number of Customers: 326\n"
     ]
    },
    {
     "name": "stderr",
     "output_type": "stream",
     "text": [
      "INFO: ✓ Created 46 clusters for Stock Point 1647108 using divisive clustering method\n",
      "INFO: ----------------------------------------\n"
     ]
    },
    {
     "name": "stdout",
     "output_type": "stream",
     "text": [
      "Silhouette Score: 0.38\n",
      "Davies-Bouldin Index: 0.37\n",
      "Calinski-Harabasz Score: 741.3\n"
     ]
    },
    {
     "name": "stderr",
     "output_type": "stream",
     "text": [
      "INFO: 4. Route Analysis & Results...\n",
      "INFO: ----------------------------------------\n",
      "INFO: Calculating route...\n",
      "INFO: Starting route calculations for all trips...\n",
      "INFO: All route calculations completed.\n",
      "\n",
      "INFO: Map saved to /home/azureuser/BT/11_Demand_Engine/Algorithm_V1/recommendation_output/selected_trip_map/2025-07-04/1647108.html\n",
      "INFO: Route map created successfully: /home/azureuser/BT/11_Demand_Engine/Algorithm_V1/recommendation_output/selected_trip_map/2025-07-04/1647108.html\n",
      "INFO: Plotting cluster without route calculation...\n"
     ]
    },
    {
     "name": "stdout",
     "output_type": "stream",
     "text": [
      "Warning: Missing optional columns in popup_cols: ['TotalQuantity']. These will be ignored.\n"
     ]
    },
    {
     "name": "stderr",
     "output_type": "stream",
     "text": [
      "INFO: Map saved to /home/azureuser/BT/11_Demand_Engine/Algorithm_V1/recommendation_output/cluster_map/2025-07-04/1647108.html\n",
      "INFO: ================================================================================\n",
      "INFO: ROUTE OPTIMIZATION FOR PUSH SALES RECOMMENDATIONS\n",
      "INFO: StockPoint: OmniHub Ojo Lagos - Mas Global, StockPointID: 1647141,\n",
      "INFO: ================================================================================\n",
      "INFO: \n",
      "1. Loading Data...\n",
      "INFO: ----------------------------------------\n",
      "INFO: ✓ Loaded 1294 SKU recommendations\n",
      "INFO: ✓ Loaded 404 customer records\n",
      "INFO: ✓ Loaded 1 stock points\n",
      "INFO: ✓ Route optimizer initialized\n",
      "INFO: \n",
      "3. Generating Optimized Routes...\n",
      "INFO: ----------------------------------------\n"
     ]
    },
    {
     "name": "stdout",
     "output_type": "stream",
     "text": [
      "60/72 \n",
      "Stock Point ID: 1647141 || Stock Point Name: OmniHub Ojo Lagos - Mas Global\n",
      "Total Quantity before filter: 6,112\n",
      "Total Quantity: 5,062\n",
      "Total Number of Customers before filter: 499\n",
      "Total Number of Customers: 404\n"
     ]
    },
    {
     "name": "stderr",
     "output_type": "stream",
     "text": [
      "INFO: ✓ Created 64 clusters for Stock Point 1647141 using divisive clustering method\n",
      "INFO: ----------------------------------------\n"
     ]
    },
    {
     "name": "stdout",
     "output_type": "stream",
     "text": [
      "Silhouette Score: 0.38\n",
      "Davies-Bouldin Index: 0.48\n",
      "Calinski-Harabasz Score: 2035788.6\n"
     ]
    },
    {
     "name": "stderr",
     "output_type": "stream",
     "text": [
      "INFO: 4. Route Analysis & Results...\n",
      "INFO: ----------------------------------------\n",
      "INFO: Calculating route...\n",
      "INFO: Starting route calculations for all trips...\n",
      "INFO: All route calculations completed.\n",
      "\n",
      "INFO: Map saved to /home/azureuser/BT/11_Demand_Engine/Algorithm_V1/recommendation_output/selected_trip_map/2025-07-04/1647141.html\n",
      "INFO: Route map created successfully: /home/azureuser/BT/11_Demand_Engine/Algorithm_V1/recommendation_output/selected_trip_map/2025-07-04/1647141.html\n",
      "INFO: Plotting cluster without route calculation...\n"
     ]
    },
    {
     "name": "stdout",
     "output_type": "stream",
     "text": [
      "Warning: Missing optional columns in popup_cols: ['TotalQuantity']. These will be ignored.\n"
     ]
    },
    {
     "name": "stderr",
     "output_type": "stream",
     "text": [
      "INFO: Map saved to /home/azureuser/BT/11_Demand_Engine/Algorithm_V1/recommendation_output/cluster_map/2025-07-04/1647141.html\n",
      "INFO: ================================================================================\n",
      "INFO: ROUTE OPTIMIZATION FOR PUSH SALES RECOMMENDATIONS\n",
      "INFO: StockPoint: OmniHub Calabar Municipal Cross River - Eyong Obot, StockPointID: 1647187,\n",
      "INFO: ================================================================================\n",
      "INFO: \n",
      "1. Loading Data...\n",
      "INFO: ----------------------------------------\n",
      "INFO: ✓ Loaded 360 SKU recommendations\n",
      "INFO: ✓ Loaded 122 customer records\n",
      "INFO: ✓ Loaded 1 stock points\n",
      "INFO: ✓ Route optimizer initialized\n",
      "INFO: \n",
      "3. Generating Optimized Routes...\n",
      "INFO: ----------------------------------------\n"
     ]
    },
    {
     "name": "stdout",
     "output_type": "stream",
     "text": [
      "61/72 \n",
      "Stock Point ID: 1647187 || Stock Point Name: OmniHub Calabar Municipal Cross River - Eyong Obot\n",
      "Total Quantity before filter: 2,946\n",
      "Total Quantity: 1,485\n",
      "Total Number of Customers before filter: 231\n",
      "Total Number of Customers: 122\n"
     ]
    },
    {
     "name": "stderr",
     "output_type": "stream",
     "text": [
      "INFO: ✓ Created 9 clusters for Stock Point 1647187 using divisive clustering method\n",
      "INFO: ----------------------------------------\n"
     ]
    },
    {
     "name": "stdout",
     "output_type": "stream",
     "text": [
      "Silhouette Score: 0.48\n",
      "Davies-Bouldin Index: 0.6\n",
      "Calinski-Harabasz Score: 79308.2\n"
     ]
    },
    {
     "name": "stderr",
     "output_type": "stream",
     "text": [
      "INFO: 4. Route Analysis & Results...\n",
      "INFO: ----------------------------------------\n",
      "INFO: Calculating route...\n",
      "INFO: Starting route calculations for all trips...\n",
      "INFO: All route calculations completed.\n",
      "\n",
      "INFO: Map saved to /home/azureuser/BT/11_Demand_Engine/Algorithm_V1/recommendation_output/selected_trip_map/2025-07-04/1647187.html\n",
      "INFO: Route map created successfully: /home/azureuser/BT/11_Demand_Engine/Algorithm_V1/recommendation_output/selected_trip_map/2025-07-04/1647187.html\n",
      "INFO: Plotting cluster without route calculation...\n"
     ]
    },
    {
     "name": "stdout",
     "output_type": "stream",
     "text": [
      "Warning: Missing optional columns in popup_cols: ['TotalQuantity']. These will be ignored.\n"
     ]
    },
    {
     "name": "stderr",
     "output_type": "stream",
     "text": [
      "INFO: Map saved to /home/azureuser/BT/11_Demand_Engine/Algorithm_V1/recommendation_output/cluster_map/2025-07-04/1647187.html\n",
      "INFO: ================================================================================\n",
      "INFO: ROUTE OPTIMIZATION FOR PUSH SALES RECOMMENDATIONS\n",
      "INFO: StockPoint: OmniHub Calabar Municipal Cross River - Alpha Grafix, StockPointID: 1647403,\n",
      "INFO: ================================================================================\n",
      "INFO: \n",
      "1. Loading Data...\n",
      "INFO: ----------------------------------------\n",
      "INFO: ✓ Loaded 142 SKU recommendations\n",
      "INFO: ✓ Loaded 67 customer records\n",
      "INFO: ✓ Loaded 1 stock points\n",
      "INFO: ✓ Route optimizer initialized\n",
      "INFO: \n",
      "3. Generating Optimized Routes...\n",
      "INFO: ----------------------------------------\n"
     ]
    },
    {
     "name": "stdout",
     "output_type": "stream",
     "text": [
      "62/72 \n",
      "Stock Point ID: 1647403 || Stock Point Name: OmniHub Calabar Municipal Cross River - Alpha Grafix\n",
      "Total Quantity before filter: 909\n",
      "Total Quantity: 626\n",
      "Total Number of Customers before filter: 97\n",
      "Total Number of Customers: 67\n"
     ]
    },
    {
     "name": "stderr",
     "output_type": "stream",
     "text": [
      "INFO: ✓ Created 6 clusters for Stock Point 1647403 using divisive clustering method\n",
      "INFO: ----------------------------------------\n"
     ]
    },
    {
     "name": "stdout",
     "output_type": "stream",
     "text": [
      "Silhouette Score: 0.48\n",
      "Davies-Bouldin Index: 0.43\n",
      "Calinski-Harabasz Score: 3068.95\n"
     ]
    },
    {
     "name": "stderr",
     "output_type": "stream",
     "text": [
      "INFO: 4. Route Analysis & Results...\n",
      "INFO: ----------------------------------------\n",
      "INFO: Calculating route...\n",
      "INFO: Starting route calculations for all trips...\n",
      "INFO: All route calculations completed.\n",
      "\n",
      "INFO: Map saved to /home/azureuser/BT/11_Demand_Engine/Algorithm_V1/recommendation_output/selected_trip_map/2025-07-04/1647403.html\n",
      "INFO: Route map created successfully: /home/azureuser/BT/11_Demand_Engine/Algorithm_V1/recommendation_output/selected_trip_map/2025-07-04/1647403.html\n",
      "INFO: Plotting cluster without route calculation...\n",
      "INFO: Map saved to /home/azureuser/BT/11_Demand_Engine/Algorithm_V1/recommendation_output/cluster_map/2025-07-04/1647403.html\n"
     ]
    },
    {
     "name": "stdout",
     "output_type": "stream",
     "text": [
      "Warning: Missing optional columns in popup_cols: ['TotalQuantity']. These will be ignored.\n"
     ]
    },
    {
     "name": "stderr",
     "output_type": "stream",
     "text": [
      "INFO: ================================================================================\n",
      "INFO: ROUTE OPTIMIZATION FOR PUSH SALES RECOMMENDATIONS\n",
      "INFO: StockPoint: OmniHub Alimosho Lagos - Kay24, StockPointID: 1647419,\n",
      "INFO: ================================================================================\n",
      "INFO: \n",
      "1. Loading Data...\n",
      "INFO: ----------------------------------------\n",
      "INFO: ✓ Loaded 47 SKU recommendations\n",
      "INFO: ✓ Loaded 13 customer records\n",
      "INFO: ✓ Loaded 1 stock points\n",
      "INFO: ✓ Route optimizer initialized\n",
      "INFO: \n",
      "3. Generating Optimized Routes...\n",
      "INFO: ----------------------------------------\n",
      "INFO: ✓ Created 1 clusters for Stock Point 1647419 using divisive clustering method\n",
      "INFO: ----------------------------------------\n",
      "INFO: 4. Route Analysis & Results...\n",
      "INFO: ----------------------------------------\n",
      "INFO: Calculating route...\n",
      "INFO: Starting route calculations for all trips...\n"
     ]
    },
    {
     "name": "stdout",
     "output_type": "stream",
     "text": [
      "63/72 \n",
      "Stock Point ID: 1647419 || Stock Point Name: OmniHub Alimosho Lagos - Kay24\n",
      "Total Quantity before filter: 300\n",
      "Total Quantity: 163\n",
      "Total Number of Customers before filter: 26\n",
      "Total Number of Customers: 13\n"
     ]
    },
    {
     "name": "stderr",
     "output_type": "stream",
     "text": [
      "INFO: All route calculations completed.\n",
      "\n",
      "INFO: Map saved to /home/azureuser/BT/11_Demand_Engine/Algorithm_V1/recommendation_output/selected_trip_map/2025-07-04/1647419.html\n",
      "INFO: Route map created successfully: /home/azureuser/BT/11_Demand_Engine/Algorithm_V1/recommendation_output/selected_trip_map/2025-07-04/1647419.html\n",
      "INFO: Plotting cluster without route calculation...\n",
      "INFO: Map saved to /home/azureuser/BT/11_Demand_Engine/Algorithm_V1/recommendation_output/cluster_map/2025-07-04/1647419.html\n",
      "INFO: ================================================================================\n",
      "INFO: ROUTE OPTIMIZATION FOR PUSH SALES RECOMMENDATIONS\n",
      "INFO: StockPoint: OmniHub Ojo Lagos - Barka Agro 3, StockPointID: 1647420,\n",
      "INFO: ================================================================================\n",
      "INFO: \n",
      "1. Loading Data...\n",
      "INFO: ----------------------------------------\n"
     ]
    },
    {
     "name": "stdout",
     "output_type": "stream",
     "text": [
      "Warning: Missing optional columns in popup_cols: ['TotalQuantity']. These will be ignored.\n",
      "64/72 \n",
      "Stock Point ID: 1647420 || Stock Point Name: OmniHub Ojo Lagos - Barka Agro 3\n"
     ]
    },
    {
     "name": "stderr",
     "output_type": "stream",
     "text": [
      "INFO: ================================================================================\n",
      "INFO: ROUTE OPTIMIZATION FOR PUSH SALES RECOMMENDATIONS\n",
      "INFO: StockPoint: OmniHub Ikpoba Okha Edo - Real Care, StockPointID: 1647421,\n",
      "INFO: ================================================================================\n",
      "INFO: \n",
      "1. Loading Data...\n",
      "INFO: ----------------------------------------\n",
      "INFO: ================================================================================\n",
      "INFO: ROUTE OPTIMIZATION FOR PUSH SALES RECOMMENDATIONS\n",
      "INFO: StockPoint: OmniHub Oshodi Isolo Lagos - Fabb, StockPointID: 1647422,\n",
      "INFO: ================================================================================\n",
      "INFO: \n",
      "1. Loading Data...\n",
      "INFO: ----------------------------------------\n",
      "INFO: ================================================================================\n",
      "INFO: ROUTE OPTIMIZATION FOR PUSH SALES RECOMMENDATIONS\n",
      "INFO: StockPoint: OmniHub Keffi Nasarawa - Donsam, StockPointID: 1647425,\n",
      "INFO: ================================================================================\n",
      "INFO: \n",
      "1. Loading Data...\n",
      "INFO: ----------------------------------------\n"
     ]
    },
    {
     "name": "stdout",
     "output_type": "stream",
     "text": [
      "Total Quantity before filter: 5\n",
      "Total Quantity: 0\n",
      "Total Number of Customers before filter: 1\n",
      "Total Number of Customers: 0\n",
      "65/72 \n",
      "Stock Point ID: 1647421 || Stock Point Name: OmniHub Ikpoba Okha Edo - Real Care\n",
      "Total Quantity before filter: 0\n",
      "Total Quantity: 0\n",
      "Total Number of Customers before filter: 0\n",
      "Total Number of Customers: 0\n",
      "66/72 \n",
      "Stock Point ID: 1647422 || Stock Point Name: OmniHub Oshodi Isolo Lagos - Fabb\n",
      "Total Quantity before filter: 0\n",
      "Total Quantity: 0\n",
      "Total Number of Customers before filter: 0\n",
      "Total Number of Customers: 0\n",
      "67/72 \n",
      "Stock Point ID: 1647425 || Stock Point Name: OmniHub Keffi Nasarawa - Donsam\n"
     ]
    },
    {
     "name": "stderr",
     "output_type": "stream",
     "text": [
      "INFO: ================================================================================\n",
      "INFO: ROUTE OPTIMIZATION FOR PUSH SALES RECOMMENDATIONS\n",
      "INFO: StockPoint: OmniHub Kuje/Gwagwalada/Abaji Abuja - Deschek, StockPointID: 1647434,\n",
      "INFO: ================================================================================\n",
      "INFO: \n",
      "1. Loading Data...\n",
      "INFO: ----------------------------------------\n",
      "INFO: ================================================================================\n",
      "INFO: ROUTE OPTIMIZATION FOR PUSH SALES RECOMMENDATIONS\n",
      "INFO: StockPoint: OmniHub Egor Edo - 10TH Gear, StockPointID: 1647436,\n",
      "INFO: ================================================================================\n",
      "INFO: \n",
      "1. Loading Data...\n",
      "INFO: ----------------------------------------\n",
      "INFO: ================================================================================\n",
      "INFO: ROUTE OPTIMIZATION FOR PUSH SALES RECOMMENDATIONS\n",
      "INFO: StockPoint: OmniHub Ado Odo/Ota Ogun - Azacram, StockPointID: 1647437,\n",
      "INFO: ================================================================================\n",
      "INFO: \n",
      "1. Loading Data...\n",
      "INFO: ----------------------------------------\n"
     ]
    },
    {
     "name": "stdout",
     "output_type": "stream",
     "text": [
      "Total Quantity before filter: 0\n",
      "Total Quantity: 0\n",
      "Total Number of Customers before filter: 0\n",
      "Total Number of Customers: 0\n",
      "68/72 \n",
      "Stock Point ID: 1647434 || Stock Point Name: OmniHub Kuje/Gwagwalada/Abaji Abuja - Deschek\n",
      "Total Quantity before filter: 0\n",
      "Total Quantity: 0\n",
      "Total Number of Customers before filter: 0\n",
      "Total Number of Customers: 0\n",
      "69/72 \n",
      "Stock Point ID: 1647436 || Stock Point Name: OmniHub Egor Edo - 10TH Gear\n",
      "Total Quantity before filter: 0\n",
      "Total Quantity: 0\n",
      "Total Number of Customers before filter: 0\n",
      "Total Number of Customers: 0\n",
      "70/72 \n",
      "Stock Point ID: 1647437 || Stock Point Name: OmniHub Ado Odo/Ota Ogun - Azacram\n"
     ]
    },
    {
     "name": "stderr",
     "output_type": "stream",
     "text": [
      "INFO: ================================================================================\n",
      "INFO: ROUTE OPTIMIZATION FOR PUSH SALES RECOMMENDATIONS\n",
      "INFO: StockPoint: OmniHub Ado Odo/Ota Ogun - Soffy's Concept, StockPointID: 1647438,\n",
      "INFO: ================================================================================\n",
      "INFO: \n",
      "1. Loading Data...\n",
      "INFO: ----------------------------------------\n"
     ]
    },
    {
     "name": "stdout",
     "output_type": "stream",
     "text": [
      "Total Quantity before filter: 0\n",
      "Total Quantity: 0\n",
      "Total Number of Customers before filter: 0\n",
      "Total Number of Customers: 0\n",
      "71/72 \n",
      "Stock Point ID: 1647438 || Stock Point Name: OmniHub Ado Odo/Ota Ogun - Soffy's Concept\n",
      "Total Quantity before filter: 0\n",
      "Total Quantity: 0\n",
      "Total Number of Customers before filter: 0\n",
      "Total Number of Customers: 0\n"
     ]
    }
   ],
   "source": [
    "ALL_STOCKPOINTS_RESULT = {}\n",
    "for index, row in df_stockpoint_dim.iterrows():\n",
    "    # if index == 12:\n",
    "    # if index == 5:\n",
    "    stock_point_id =  row['Stock_Point_ID']\n",
    "    stock_point_name = row['Stock_point_Name']\n",
    "    print(f'{index}/{len(df_stockpoint_dim)} \\nStock Point ID: {stock_point_id} || Stock Point Name: {stock_point_name}')  # Access by column name\n",
    "\n",
    "    res_dict = run_push_recommendation(df_customer_sku_recommendation, \n",
    "                            df_master_customer_dim, \n",
    "                            df_stockpoint_dim, \n",
    "                            stock_point_id,\n",
    "                            stock_point_name,\n",
    "                            sku_recency = 7, \n",
    "                            customer_recency = 60, number_recommendation = 5, \n",
    "                            estimate_qty_scale_factor = 1, max_estimated_qty = 5, \n",
    "                            exclude_recency_customer = 4,\n",
    "                            max_customers_per_route=20,\n",
    "                            max_volume_per_route=300,\n",
    "                            max_distance_km = 40,\n",
    "                            sel_trip_cluster = 5,\n",
    "                            min_ncust_per_cluster = 5,\n",
    "                            clustering_method = 'divisive',\n",
    "                            skip_route_optimization = False,\n",
    "                            save_to_disk = True,\n",
    "                            # Global variables\n",
    "                            valhalla_manager = valhalla_manager,\n",
    "                            CURRENT_DATE = CURRENT_DATE,\n",
    "                            SELECTED_TRIP_PATH = SELECTED_TRIP_PATH,\n",
    "                            ALL_CLUSTER_PATH = ALL_CLUSTER_PATH,\n",
    "                            LOCAL_EXCEL_PATH = LOCAL_EXCEL_PATH,\n",
    "                            logger=logger)\n",
    "    \n",
    "    ALL_STOCKPOINTS_RESULT[stock_point_name] = res_dict"
   ]
  },
  {
   "cell_type": "markdown",
   "id": "a5aa8694",
   "metadata": {},
   "source": [
    "## Fix Map"
   ]
  },
  {
   "cell_type": "code",
   "execution_count": 11,
   "id": "f85bf522",
   "metadata": {},
   "outputs": [],
   "source": [
    "all_spid_list = df_stockpoint_dim['Stock_Point_ID'].to_list()\n",
    "selected_trip_spid_list = [int(spid) for spid in list_files_in_directory(SELECTED_TRIP_PATH) if not spid.startswith('index')]\n",
    "all_cluster_spid_list = [int(spid) for spid in list_files_in_directory(ALL_CLUSTER_PATH) if not spid.startswith('index')]\n",
    "\n",
    "unmapped_selected_trip_spid_list = list(set(all_spid_list) - set(selected_trip_spid_list))\n",
    "unmapped_all_cluster_spid_list = list(set(all_spid_list) - set(all_cluster_spid_list))"
   ]
  },
  {
   "cell_type": "code",
   "execution_count": 12,
   "id": "7891f614",
   "metadata": {},
   "outputs": [
    {
     "name": "stdout",
     "output_type": "stream",
     "text": [
      "All Stock Points: 72\n",
      "All Stock Points: 45\n",
      "All Stock Points: 46\n",
      "All Stock Points: 27\n",
      "All Stock Points: 26\n"
     ]
    }
   ],
   "source": [
    "print(f\"All Stock Points: {len(all_spid_list)}\")\n",
    "print(f\"All Stock Points: {len(selected_trip_spid_list)}\")\n",
    "print(f\"All Stock Points: {len(all_cluster_spid_list)}\")\n",
    "print(f\"All Stock Points: {len(unmapped_selected_trip_spid_list)}\")\n",
    "print(f\"All Stock Points: {len(unmapped_all_cluster_spid_list)}\")"
   ]
  },
  {
   "cell_type": "code",
   "execution_count": 13,
   "id": "3758e460",
   "metadata": {},
   "outputs": [],
   "source": [
    "# Copy index.html files from source directories to date-based subdirectories\n",
    "source_cluster_map_index = BASE_DIR / 'html' / 'default_cluster_map_index.html'\n",
    "source_selected_trip_index = BASE_DIR / 'html' / 'default_selected_cluster_map_index.html' \n",
    "        \n",
    "if len(unmapped_all_cluster_spid_list) > 0:\n",
    "    try:\n",
    "        if source_cluster_map_index.exists():\n",
    "            for spid in unmapped_all_cluster_spid_list:\n",
    "                spid_path = ALL_CLUSTER_PATH / f'{str(spid)}.html'       \n",
    "                shutil.copy2(source_cluster_map_index, spid_path)\n",
    "                logger.debug(f\"Copied index.html to {ALL_CLUSTER_PATH / str(spid)}.html\")\n",
    "        else:\n",
    "            logger.warning(f\"Source index.html not found at {source_selected_trip_index}\")\n",
    "    except Exception as e:\n",
    "        logger.error(f\"Failed to copy index.html to {ALL_CLUSTER_PATH}: {str(e)}\")\n",
    "        \n",
    "        \n",
    "# Copy index.html for selected_trip_map\n",
    "if len(unmapped_selected_trip_spid_list) > 0:\n",
    "    try:\n",
    "        if source_selected_trip_index.exists():\n",
    "            for spid in unmapped_selected_trip_spid_list:\n",
    "                spid_path = SELECTED_TRIP_PATH / f'{str(spid)}.html'       \n",
    "                shutil.copy2(source_selected_trip_index, spid_path)\n",
    "                logger.debug(f\"Copied index.html to {SELECTED_TRIP_PATH / INDEX_HTML}\")\n",
    "        else:\n",
    "            logger.warning(f\"Source index.html not found at {source_selected_trip_index}\")\n",
    "    except Exception as e:\n",
    "        logger.error(f\"Failed to copy index.html to {SELECTED_TRIP_PATH}: {str(e)}\")\n",
    "\n",
    "             "
   ]
  },
  {
   "cell_type": "code",
   "execution_count": 14,
   "id": "e97f5d19",
   "metadata": {},
   "outputs": [],
   "source": [
    "# unmapped_selected_trip_spid_list"
   ]
  },
  {
   "cell_type": "markdown",
   "id": "81dcc413",
   "metadata": {},
   "source": [
    "## Export to DB"
   ]
  },
  {
   "cell_type": "code",
   "execution_count": 15,
   "id": "29a701f3",
   "metadata": {},
   "outputs": [],
   "source": [
    "from src.data.export2db import RecommendationProcessor\n",
    "from src.data.get_connection import get_connection"
   ]
  },
  {
   "cell_type": "code",
   "execution_count": 16,
   "id": "554df99e",
   "metadata": {},
   "outputs": [],
   "source": [
    "# Simple usage\n",
    "# main(ALL_STOCKPOINTS_RESULT, CURRENT_DATE, get_connection)\n",
    "\n",
    "# Or use the processor directly\n",
    "processor = RecommendationProcessor(get_connection)\n",
    "processor.process(ALL_STOCKPOINTS_RESULT, CURRENT_DATE)"
   ]
  },
  {
   "cell_type": "code",
   "execution_count": 17,
   "id": "b4b50b6e",
   "metadata": {},
   "outputs": [
    {
     "data": {
      "text/plain": [
       "datetime.date(2025, 7, 4)"
      ]
     },
     "execution_count": 17,
     "metadata": {},
     "output_type": "execute_result"
    }
   ],
   "source": [
    "CURRENT_DATE"
   ]
  },
  {
   "cell_type": "markdown",
   "id": "5e6440ee",
   "metadata": {},
   "source": [
    "# Clean Up"
   ]
  },
  {
   "cell_type": "code",
   "execution_count": 18,
   "id": "b1305e64",
   "metadata": {},
   "outputs": [
    {
     "name": "stdout",
     "output_type": "stream",
     "text": [
      "Stopping Valhalla container...\n",
      " Container valhalla_nigeria_project-valhalla-1  Stopping\n",
      " Container valhalla_nigeria_project-valhalla-1  Stopped\n",
      " Container valhalla_nigeria_project-valhalla-1  Removing\n",
      " Container valhalla_nigeria_project-valhalla-1  Removed\n",
      " Network valhalla_nigeria_project_default  Removing\n",
      " Network valhalla_nigeria_project_default  Removed\n",
      "\n",
      "Valhalla container stopped.\n"
     ]
    }
   ],
   "source": [
    "# Stop the server when done\n",
    "valhalla_manager.stop_valhalla()"
   ]
  },
  {
   "cell_type": "code",
   "execution_count": null,
   "id": "8033d80b",
   "metadata": {},
   "outputs": [],
   "source": []
  }
 ],
 "metadata": {
  "kernelspec": {
   "display_name": "env_dev",
   "language": "python",
   "name": "python3"
  },
  "language_info": {
   "codemirror_mode": {
    "name": "ipython",
    "version": 3
   },
   "file_extension": ".py",
   "mimetype": "text/x-python",
   "name": "python",
   "nbconvert_exporter": "python",
   "pygments_lexer": "ipython3",
   "version": "3.8.10"
  }
 },
 "nbformat": 4,
 "nbformat_minor": 5
}
