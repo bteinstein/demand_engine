{
 "cells": [
  {
   "cell_type": "code",
   "execution_count": null,
   "id": "4b212dc4",
   "metadata": {},
   "outputs": [],
   "source": [
    "from src.get_data import get_data , get_kyc_customers, get_customer_score"
   ]
  },
  {
   "cell_type": "code",
   "execution_count": null,
   "id": "2da82216",
   "metadata": {},
   "outputs": [],
   "source": [
    "df_customer_sku_recommendation_raw,  df_customer_dim_with_affinity_score_raw, df_stockpoint_dim_raw = get_data() # 1mins # 3mins"
   ]
  },
  {
   "cell_type": "code",
   "execution_count": null,
   "id": "4a85d27b",
   "metadata": {},
   "outputs": [],
   "source": [
    "df_kyc_customer = get_kyc_customers()\n",
    "df_kyc_customer.shape # ETA 9mins"
   ]
  },
  {
   "cell_type": "code",
   "execution_count": null,
   "id": "a9278708",
   "metadata": {},
   "outputs": [],
   "source": [
    "\n",
    "df_min = df_kyc_customer.query('CustomerID == 4529739')#.head(1)\n",
    "\n",
    "from datetime import datetime\n",
    "import pandas as pd\n",
    "\n",
    "print(datetime.now() - pd.to_datetime(df_min['lastDelvDate'].values[0]))\n",
    "df_min"
   ]
  },
  {
   "cell_type": "code",
   "execution_count": null,
   "id": "8bddd60c",
   "metadata": {},
   "outputs": [],
   "source": [
    "df_customer_score = get_customer_score() # ETA: 40 mins\n",
    "\n",
    "df_customer_days_since_last_order = df_customer_score.groupby('CustomerID').days_since_last_order.min().reset_index()\n",
    "\n",
    "# Update df_customer_score with df_customer_days_since_last_order\n",
    "df_customer_score.drop(columns=['days_since_last_order'], inplace=True, errors='ignore')\n",
    "df_customer_score = df_customer_score.merge(df_customer_days_since_last_order, on='CustomerID', suffixes=('', '_min'))\n",
    "\n",
    "df_customer_score.shape "
   ]
  },
  {
   "cell_type": "code",
   "execution_count": null,
   "id": "e4322168",
   "metadata": {},
   "outputs": [],
   "source": []
  },
  {
   "cell_type": "code",
   "execution_count": null,
   "id": "3324ed3e",
   "metadata": {},
   "outputs": [],
   "source": [
    "\n",
    "df_min = df_customer_score.query('CustomerID == 4529739')#.head(1)\n",
    "\n",
    "df_min.days_since_last_order.max()"
   ]
  }
 ],
 "metadata": {
  "kernelspec": {
   "display_name": "venv",
   "language": "python",
   "name": "python3"
  },
  "language_info": {
   "codemirror_mode": {
    "name": "ipython",
    "version": 3
   },
   "file_extension": ".py",
   "mimetype": "text/x-python",
   "name": "python",
   "nbconvert_exporter": "python",
   "pygments_lexer": "ipython3",
   "version": "3.10.12"
  }
 },
 "nbformat": 4,
 "nbformat_minor": 5
}
