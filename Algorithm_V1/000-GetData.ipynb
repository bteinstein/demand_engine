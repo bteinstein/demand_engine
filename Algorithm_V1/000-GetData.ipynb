{
 "cells": [
  {
   "cell_type": "code",
   "execution_count": 1,
   "id": "4b212dc4",
   "metadata": {},
   "outputs": [],
   "source": [
    "from src.get_data import get_data , get_kyc_customers, get_customer_score"
   ]
  },
  {
   "cell_type": "code",
   "execution_count": 2,
   "id": "2da82216",
   "metadata": {},
   "outputs": [
    {
     "name": "stdout",
     "output_type": "stream",
     "text": [
      "DataFrame 1:\n",
      "(158530, 13)\n",
      "\n",
      "DataFrame 2:\n",
      "(10813, 22)\n",
      "\n",
      "DataFrame 3:\n",
      "(69, 4)\n",
      "Saving file to disk ...\n"
     ]
    }
   ],
   "source": [
    "df_customer_sku_recommendation_raw,  df_customer_dim_with_affinity_score_raw, df_stockpoint_dim_raw = get_data() # 1mins # 3mins"
   ]
  },
  {
   "cell_type": "code",
   "execution_count": 3,
   "id": "4a85d27b",
   "metadata": {},
   "outputs": [
    {
     "data": {
      "text/plain": [
       "(342908, 57)"
      ]
     },
     "execution_count": 3,
     "metadata": {},
     "output_type": "execute_result"
    }
   ],
   "source": [
    "df_kyc_customer = get_kyc_customers()\n",
    "df_kyc_customer.shape # ETA 9mins"
   ]
  },
  {
   "cell_type": "code",
   "execution_count": 4,
   "id": "a9278708",
   "metadata": {},
   "outputs": [
    {
     "data": {
      "text/plain": [
       "pandas.core.frame.DataFrame"
      ]
     },
     "execution_count": 4,
     "metadata": {},
     "output_type": "execute_result"
    }
   ],
   "source": [
    "type(df_kyc_customer)"
   ]
  },
  {
   "cell_type": "code",
   "execution_count": 5,
   "id": "8bddd60c",
   "metadata": {},
   "outputs": [
    {
     "data": {
      "text/plain": [
       "(27795, 15)"
      ]
     },
     "execution_count": 5,
     "metadata": {},
     "output_type": "execute_result"
    }
   ],
   "source": [
    "df_customer_score = get_customer_score() # ETA: 40 mins\n",
    "df_customer_score.shape "
   ]
  },
  {
   "cell_type": "code",
   "execution_count": null,
   "id": "3324ed3e",
   "metadata": {},
   "outputs": [],
   "source": []
  }
 ],
 "metadata": {
  "kernelspec": {
   "display_name": "venv",
   "language": "python",
   "name": "python3"
  },
  "language_info": {
   "codemirror_mode": {
    "name": "ipython",
    "version": 3
   },
   "file_extension": ".py",
   "mimetype": "text/x-python",
   "name": "python",
   "nbconvert_exporter": "python",
   "pygments_lexer": "ipython3",
   "version": "3.10.12"
  }
 },
 "nbformat": 4,
 "nbformat_minor": 5
}
