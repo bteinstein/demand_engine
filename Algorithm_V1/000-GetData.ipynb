{
 "cells": [
  {
   "cell_type": "code",
   "execution_count": 1,
   "id": "4b212dc4",
   "metadata": {},
   "outputs": [],
   "source": [
    "from src.get_data import get_data , get_kyc_customers, get_customer_score"
   ]
  },
  {
   "cell_type": "code",
   "execution_count": 2,
   "id": "2da82216",
   "metadata": {},
   "outputs": [
    {
     "name": "stdout",
     "output_type": "stream",
     "text": [
      "DataFrame 1:\n",
      "(155758, 13)\n",
      "\n",
      "DataFrame 2:\n",
      "(10793, 22)\n",
      "\n",
      "DataFrame 3:\n",
      "(72, 4)\n",
      "Saving file to disk ...\n"
     ]
    }
   ],
   "source": [
    "df_customer_sku_recommendation_raw,  df_customer_dim_with_affinity_score_raw, df_stockpoint_dim_raw = get_data() # 1mins # 3mins"
   ]
  },
  {
   "cell_type": "code",
   "execution_count": 3,
   "id": "4a85d27b",
   "metadata": {},
   "outputs": [
    {
     "data": {
      "text/plain": [
       "(343142, 57)"
      ]
     },
     "execution_count": 3,
     "metadata": {},
     "output_type": "execute_result"
    }
   ],
   "source": [
    "df_kyc_customer = get_kyc_customers()\n",
    "df_kyc_customer.shape # ETA 9mins"
   ]
  },
  {
   "cell_type": "code",
   "execution_count": 4,
   "id": "a9278708",
   "metadata": {},
   "outputs": [
    {
     "name": "stdout",
     "output_type": "stream",
     "text": [
      "171 days 13:52:51.439132\n"
     ]
    },
    {
     "data": {
      "text/html": [
       "<div>\n",
       "<style scoped>\n",
       "    .dataframe tbody tr th:only-of-type {\n",
       "        vertical-align: middle;\n",
       "    }\n",
       "\n",
       "    .dataframe tbody tr th {\n",
       "        vertical-align: top;\n",
       "    }\n",
       "\n",
       "    .dataframe thead th {\n",
       "        text-align: right;\n",
       "    }\n",
       "</style>\n",
       "<table border=\"1\" class=\"dataframe\">\n",
       "  <thead>\n",
       "    <tr style=\"text-align: right;\">\n",
       "      <th></th>\n",
       "      <th>CustomerID</th>\n",
       "      <th>ContactName</th>\n",
       "      <th>BusinessName</th>\n",
       "      <th>CustomerModeName</th>\n",
       "      <th>CustomerRef</th>\n",
       "      <th>ContactPhone</th>\n",
       "      <th>CustomerType</th>\n",
       "      <th>CustomerCreatedDate</th>\n",
       "      <th>AgentID</th>\n",
       "      <th>AgentName</th>\n",
       "      <th>...</th>\n",
       "      <th>LastImageUpdatedDate</th>\n",
       "      <th>LastImageAgentID</th>\n",
       "      <th>ImageCaptured</th>\n",
       "      <th>LatestUpdateDate</th>\n",
       "      <th>KYC_Capture_Status</th>\n",
       "      <th>hasPOS</th>\n",
       "      <th>hasVAS</th>\n",
       "      <th>hasBNPL</th>\n",
       "      <th>lastDelvDate</th>\n",
       "      <th>isActive</th>\n",
       "    </tr>\n",
       "  </thead>\n",
       "  <tbody>\n",
       "    <tr>\n",
       "      <th>260944</th>\n",
       "      <td>4529739</td>\n",
       "      <td>Joy Stanley</td>\n",
       "      <td>Madam joy stores</td>\n",
       "      <td>Retailer</td>\n",
       "      <td>iflajz9fa</td>\n",
       "      <td>07039316086</td>\n",
       "      <td>Customer</td>\n",
       "      <td>May 12 2021</td>\n",
       "      <td>5260570.0</td>\n",
       "      <td>Ezekiel Vivian Chinyere</td>\n",
       "      <td>...</td>\n",
       "      <td>2025-06-03 12:52:22.217</td>\n",
       "      <td>0.0</td>\n",
       "      <td>1.0</td>\n",
       "      <td>2025-06-03 12:52:22.217</td>\n",
       "      <td>2</td>\n",
       "      <td>0</td>\n",
       "      <td>0</td>\n",
       "      <td>0</td>\n",
       "      <td>2025-01-10 09:25:31.897</td>\n",
       "      <td>1</td>\n",
       "    </tr>\n",
       "  </tbody>\n",
       "</table>\n",
       "<p>1 rows × 57 columns</p>\n",
       "</div>"
      ],
      "text/plain": [
       "        CustomerID  ContactName       BusinessName CustomerModeName  \\\n",
       "260944     4529739  Joy Stanley  Madam joy stores          Retailer   \n",
       "\n",
       "       CustomerRef ContactPhone CustomerType CustomerCreatedDate    AgentID  \\\n",
       "260944   iflajz9fa  07039316086     Customer         May 12 2021  5260570.0   \n",
       "\n",
       "                      AgentName  ...    LastImageUpdatedDate LastImageAgentID  \\\n",
       "260944  Ezekiel Vivian Chinyere  ... 2025-06-03 12:52:22.217              0.0   \n",
       "\n",
       "       ImageCaptured        LatestUpdateDate KYC_Capture_Status hasPOS hasVAS  \\\n",
       "260944           1.0 2025-06-03 12:52:22.217                  2      0      0   \n",
       "\n",
       "       hasBNPL            lastDelvDate isActive  \n",
       "260944       0 2025-01-10 09:25:31.897        1  \n",
       "\n",
       "[1 rows x 57 columns]"
      ]
     },
     "execution_count": 4,
     "metadata": {},
     "output_type": "execute_result"
    }
   ],
   "source": [
    "\n",
    "df_min = df_kyc_customer.query('CustomerID == 4529739')#.head(1)\n",
    "\n",
    "from datetime import datetime\n",
    "import pandas as pd\n",
    "\n",
    "print(datetime.now() - pd.to_datetime(df_min['lastDelvDate'].values[0]))\n",
    "df_min"
   ]
  },
  {
   "cell_type": "code",
   "execution_count": 5,
   "id": "8bddd60c",
   "metadata": {},
   "outputs": [
    {
     "data": {
      "text/plain": [
       "(27818, 15)"
      ]
     },
     "execution_count": 5,
     "metadata": {},
     "output_type": "execute_result"
    }
   ],
   "source": [
    "df_customer_score = get_customer_score() # ETA: 40 mins\n",
    "\n",
    "df_customer_days_since_last_order = df_customer_score.groupby('CustomerID').days_since_last_order.min().reset_index()\n",
    "\n",
    "# Update df_customer_score with df_customer_days_since_last_order\n",
    "df_customer_score.drop(columns=['days_since_last_order'], inplace=True, errors='ignore')\n",
    "df_customer_score = df_customer_score.merge(df_customer_days_since_last_order, on='CustomerID', suffixes=('', '_min'))\n",
    "\n",
    "df_customer_score.shape "
   ]
  },
  {
   "cell_type": "code",
   "execution_count": null,
   "id": "e4322168",
   "metadata": {},
   "outputs": [],
   "source": []
  },
  {
   "cell_type": "code",
   "execution_count": 6,
   "id": "3324ed3e",
   "metadata": {},
   "outputs": [
    {
     "data": {
      "text/plain": [
       "np.int64(171)"
      ]
     },
     "execution_count": 6,
     "metadata": {},
     "output_type": "execute_result"
    }
   ],
   "source": [
    "\n",
    "df_min = df_customer_score.query('CustomerID == 4529739')#.head(1)\n",
    "\n",
    "df_min.days_since_last_order.max()"
   ]
  }
 ],
 "metadata": {
  "kernelspec": {
   "display_name": "venv",
   "language": "python",
   "name": "python3"
  },
  "language_info": {
   "codemirror_mode": {
    "name": "ipython",
    "version": 3
   },
   "file_extension": ".py",
   "mimetype": "text/x-python",
   "name": "python",
   "nbconvert_exporter": "python",
   "pygments_lexer": "ipython3",
   "version": "3.10.12"
  }
 },
 "nbformat": 4,
 "nbformat_minor": 5
}
